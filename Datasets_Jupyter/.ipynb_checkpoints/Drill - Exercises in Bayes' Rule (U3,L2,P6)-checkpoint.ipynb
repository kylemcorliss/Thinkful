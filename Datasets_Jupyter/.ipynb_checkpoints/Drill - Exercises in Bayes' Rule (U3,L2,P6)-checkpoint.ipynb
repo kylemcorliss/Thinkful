{
 "cells": [
  {
   "cell_type": "markdown",
   "metadata": {},
   "source": [
    "A diagnostic test has a 98% probability of giving a positive result when applied to a person suffering from Thripshaw's Disease, and 10% probability of giving a (false) positive when applied to a non-sufferer. It is estimated that 0.5 % of the population are sufferers. Suppose that the test is now administered to a person whose disease status is unknown. Calculate the probability that the test will:\n",
    "\n",
    "    1. Be positive\n",
    "    2. Correctly diagnose a sufferer of Thripshaw's\n",
    "    3. Correctly identify a non-sufferer of Thripshaw's\n",
    "    4. Misclassify the person\n"
   ]
  },
  {
   "cell_type": "markdown",
   "metadata": {},
   "source": [
    "1. P(positive) = 98.0% * 0.5% + 10% * 99.5%\n",
    "            '= .49% + 9.95%\n",
    "            '= 10.44%"
   ]
  },
  {
   "cell_type": "markdown",
   "metadata": {},
   "source": [
    "2. P(positive | sufferer) = 98% from original explanation"
   ]
  },
  {
   "cell_type": "markdown",
   "metadata": {},
   "source": [
    "3. P(negative | non-sufferer) = inverse of the false positive\n",
    "                              = 90%"
   ]
  },
  {
   "cell_type": "markdown",
   "metadata": {},
   "source": [
    "4. P(misclassify) = 1 - ( P(positive | sufferer)~ + P(negative | non-sufferer)~ )\n",
    "                  = 1 - ( 98% * 0.5% + 90% * 99.5%)\n",
    "                  = 9.96%"
   ]
  },
  {
   "cell_type": "code",
   "execution_count": null,
   "metadata": {},
   "outputs": [],
   "source": []
  }
 ],
 "metadata": {
  "kernelspec": {
   "display_name": "Python 3",
   "language": "python",
   "name": "python3"
  },
  "language_info": {
   "codemirror_mode": {
    "name": "ipython",
    "version": 3
   },
   "file_extension": ".py",
   "mimetype": "text/x-python",
   "name": "python",
   "nbconvert_exporter": "python",
   "pygments_lexer": "ipython3",
   "version": "3.7.0"
  }
 },
 "nbformat": 4,
 "nbformat_minor": 2
}
