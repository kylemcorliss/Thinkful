{
 "cells": [
  {
   "cell_type": "markdown",
   "metadata": {},
   "source": [
    "    Data Source: Amsterdam availability data scraped from AirBnB on December 24th. Question: What are the popular neighborhoods in Amsterdam?"
   ]
  },
  {
   "cell_type": "markdown",
   "metadata": {},
   "source": [
    "The obvious issue with the data source is that it was scraped on December 24th, Christmas eve. This will vastly skew the results from an average day in Amsterdam. You could adjust the analysis to ask what are the most popular neighborhoods during holidays or specifically on Christmas. This might yield interesting results of other activities happening in the city on that date and identify heavier traffic areas in the city. "
   ]
  },
  {
   "cell_type": "markdown",
   "metadata": {},
   "source": [
    "    Data Source: Mental health services use on September 12, 2001 in San Francisco, CA and New York City, NY. Question: How do patterns of mental health service use vary between cities?"
   ]
  },
  {
   "cell_type": "markdown",
   "metadata": {},
   "source": [
    "This is another example of an exceptional circumstance given 9/12/2001 was a national disaster in NYC. Assuming that most mental health services were physically unaffected by the twin towers collapse, a better analysis might be to assess the affect of that disaster on mental health. SF would exist as the controlled environment, and NYC would be used as the experimental environment. Any increase in mental health services seen on 9/12 versus SF might be used to predict the need for additional resources in mental health services following a national disaster in a given area. "
   ]
  },
  {
   "cell_type": "markdown",
   "metadata": {},
   "source": [
    "    Data Source: Armenian Pub Survey. Question: What are the most common reasons Armenians visit local pubs?"
   ]
  },
  {
   "cell_type": "markdown",
   "metadata": {},
   "source": [
    "This question seems to work based on the final question asked in the survey: \"On which occasions do you go to pubs most of the time?\" The only thing I could see is reframing the question slightly to make it more occasion based rather than just common reasons as occasion implies more a birthday or celebratory event."
   ]
  },
  {
   "cell_type": "code",
   "execution_count": null,
   "metadata": {},
   "outputs": [],
   "source": []
  }
 ],
 "metadata": {
  "kernelspec": {
   "display_name": "Python 3",
   "language": "python",
   "name": "python3"
  },
  "language_info": {
   "codemirror_mode": {
    "name": "ipython",
    "version": 3
   },
   "file_extension": ".py",
   "mimetype": "text/x-python",
   "name": "python",
   "nbconvert_exporter": "python",
   "pygments_lexer": "ipython3",
   "version": "3.7.0"
  }
 },
 "nbformat": 4,
 "nbformat_minor": 2
}
