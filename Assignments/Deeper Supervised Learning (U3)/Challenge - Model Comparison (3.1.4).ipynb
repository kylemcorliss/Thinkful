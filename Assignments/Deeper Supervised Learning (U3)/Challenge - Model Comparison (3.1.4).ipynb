{
 "cells": [
  {
   "cell_type": "code",
   "execution_count": 12,
   "metadata": {},
   "outputs": [],
   "source": [
    "%matplotlib inline\n",
    "import numpy as np\n",
    "import pandas as pd\n",
    "import scipy\n",
    "import sklearn\n",
    "import matplotlib.pyplot as plt\n",
    "import seaborn as sns\n",
    "from sklearn import linear_model\n",
    "from sklearn import neighbors\n",
    "from sklearn.model_selection import cross_val_score"
   ]
  },
  {
   "cell_type": "code",
   "execution_count": 13,
   "metadata": {},
   "outputs": [],
   "source": [
    "df_crime = pd.read_csv('table_8_offenses_known_to_law_enforcement_new_york_by_city_2013.csv')"
   ]
  },
  {
   "cell_type": "code",
   "execution_count": 14,
   "metadata": {},
   "outputs": [],
   "source": [
    "df_crime_rev = df_crime[['City', 'Population', 'Violent\\ncrime', 'Murder and\\nnonnegligent\\nmanslaughter',\n",
    "       'Rape\\n(revised\\ndefinition)1', 'Robbery', 'Aggravated\\nassault', 'Property\\ncrime', 'Burglary',\n",
    "       'Larceny-\\ntheft', 'Arson3']]"
   ]
  },
  {
   "cell_type": "code",
   "execution_count": 15,
   "metadata": {},
   "outputs": [],
   "source": [
    "df_crime_rev = df_crime_rev.dropna(axis=0,subset=['Property\\ncrime'])"
   ]
  },
  {
   "cell_type": "code",
   "execution_count": 16,
   "metadata": {},
   "outputs": [],
   "source": [
    "df_crime_rev.Population = df_crime_rev.Population.str.replace(',', '').astype(float)\n",
    "df_crime_rev.Robbery = df_crime_rev.Robbery.str.replace(',', '').astype(float)\n",
    "df_crime_rev['Violent\\ncrime'] = df_crime_rev['Violent\\ncrime'].str.replace(',', '').astype(float)\n",
    "df_crime_rev['Aggravated\\nassault'] = df_crime_rev['Aggravated\\nassault'].str.replace(',', '').astype(float)\n",
    "df_crime_rev['Burglary'] = df_crime_rev['Burglary'].str.replace(',', '').astype(float)\n",
    "df_crime_rev['Larceny-\\ntheft'] = df_crime_rev['Larceny-\\ntheft'].str.replace(',', '').astype(float)\n",
    "df_crime_rev['Property\\ncrime'] = df_crime_rev['Property\\ncrime'].str.replace(',', '').astype(float)"
   ]
  },
  {
   "cell_type": "code",
   "execution_count": 17,
   "metadata": {},
   "outputs": [],
   "source": [
    "for column in df_crime_rev.columns[2:]:\n",
    "    df_crime_rev[column + ' per cap'] = df_crime_rev[column] / df_crime_rev.Population"
   ]
  },
  {
   "cell_type": "code",
   "execution_count": 18,
   "metadata": {},
   "outputs": [],
   "source": [
    "X = df_crime_rev[['Population', 'Violent\\ncrime per cap', 'Robbery per cap',\n",
    "       'Aggravated\\nassault per cap', 'Burglary per cap']]\n",
    "Y = df_crime_rev['Property\\ncrime']"
   ]
  },
  {
   "cell_type": "markdown",
   "metadata": {},
   "source": [
    "### OLS regression"
   ]
  },
  {
   "cell_type": "code",
   "execution_count": 23,
   "metadata": {},
   "outputs": [
    {
     "data": {
      "text/plain": [
       "0.9959418322592197"
      ]
     },
     "execution_count": 23,
     "metadata": {},
     "output_type": "execute_result"
    }
   ],
   "source": [
    "OLS_model = linear_model.LinearRegression()\n",
    "\n",
    "OLS_model.fit(X, Y)\n",
    "OLS_score = OLS_model.score(X,Y)\n",
    "OLS_score"
   ]
  },
  {
   "cell_type": "code",
   "execution_count": 28,
   "metadata": {},
   "outputs": [
    {
     "data": {
      "text/plain": [
       "array([ 0.77135564,  0.67539087, -4.01919053,  0.54716003,  0.80764582])"
      ]
     },
     "execution_count": 28,
     "metadata": {},
     "output_type": "execute_result"
    }
   ],
   "source": [
    "cross_val_score(OLS_model, X, Y, cv=5)"
   ]
  },
  {
   "cell_type": "markdown",
   "metadata": {},
   "source": [
    "### KNN regression"
   ]
  },
  {
   "cell_type": "code",
   "execution_count": 35,
   "metadata": {},
   "outputs": [
    {
     "data": {
      "text/plain": [
       "1.0"
      ]
     },
     "execution_count": 35,
     "metadata": {},
     "output_type": "execute_result"
    }
   ],
   "source": [
    "knn_model = neighbors.KNeighborsRegressor(n_neighbors=5, weights='distance')\n",
    "knn_model.fit(X,Y)\n",
    "knn_score = knn_model.score(X,Y)\n",
    "knn_score"
   ]
  },
  {
   "cell_type": "code",
   "execution_count": 36,
   "metadata": {},
   "outputs": [
    {
     "data": {
      "text/plain": [
       "array([ 0.6820412 ,  0.61450266,  0.56374529,  0.05960852, -0.03825622])"
      ]
     },
     "execution_count": 36,
     "metadata": {},
     "output_type": "execute_result"
    }
   ],
   "source": [
    "knn_cross_val_score = cross_val_score(knn_model, X, Y, cv=5)\n",
    "knn_cross_val_score"
   ]
  },
  {
   "cell_type": "code",
   "execution_count": 37,
   "metadata": {},
   "outputs": [],
   "source": [
    "k_score = []\n",
    "for k in range(1,31):\n",
    "    knn = neighbors.KNeighborsRegressor(n_neighbors=k, weights='distance')\n",
    "    knn.fit(X,Y)\n",
    "    k_score.append(knn.score(X,Y))"
   ]
  },
  {
   "cell_type": "code",
   "execution_count": 38,
   "metadata": {},
   "outputs": [
    {
     "data": {
      "image/png": "[encoded data removed]",
      "text/plain": [
       "<Figure size 864x576 with 1 Axes>"
      ]
     },
     "metadata": {},
     "output_type": "display_data"
    }
   ],
   "source": [
    "import seaborn as sns\n",
    "plt.figure(figsize=(12,8))\n",
    "sns.lineplot(x=list(range(1,31)),y=k_score)\n",
    "plt.show()"
   ]
  },
  {
   "cell_type": "markdown",
   "metadata": {},
   "source": [
    "### Write-up"
   ]
  },
  {
   "cell_type": "markdown",
   "metadata": {},
   "source": []
  }
 ],
 "metadata": {
  "kernelspec": {
   "display_name": "Python 3",
   "language": "python",
   "name": "python3"
  },
  "language_info": {
   "codemirror_mode": {
    "name": "ipython",
    "version": 3
   },
   "file_extension": ".py",
   "mimetype": "text/x-python",
   "name": "python",
   "nbconvert_exporter": "python",
   "pygments_lexer": "ipython3",
   "version": "3.7.0"
  }
 },
 "nbformat": 4,
 "nbformat_minor": 2
}
