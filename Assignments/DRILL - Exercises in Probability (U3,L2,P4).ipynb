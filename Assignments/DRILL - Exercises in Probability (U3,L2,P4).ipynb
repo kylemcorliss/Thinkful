{
 "cells": [
  {
   "cell_type": "markdown",
   "metadata": {},
   "source": [
    "1) Likelihood of a coin with these patterns: HTTH, HHHH and TTHH\n",
    "The likelihood of H or T is 1/2, and all of the patterns contain 4 occurrences, so they all have the same probability of occuring in that order which is 1/2 * 1/2 * 1/2 * 1/2 = 1/16"
   ]
  },
  {
   "cell_type": "markdown",
   "metadata": {},
   "source": [
    "2) 24/45"
   ]
  },
  {
   "cell_type": "markdown",
   "metadata": {},
   "source": [
    "3) P = .1 * .00005 \n",
    "   P = 0.005%"
   ]
  },
  {
   "cell_type": "markdown",
   "metadata": {},
   "source": [
    "4) People who stay longer on the website probably click on more links and are therefore more likely to get a survey. It's highly unlikely the average user spends 15 minutes on the website, but it is likely that his sample population does given they're the users spending more time on the site and therefore more likely to fill out a survey.\n"
   ]
  },
  {
   "cell_type": "code",
   "execution_count": null,
   "metadata": {},
   "outputs": [],
   "source": []
  }
 ],
 "metadata": {
  "kernelspec": {
   "display_name": "Python 3",
   "language": "python",
   "name": "python3"
  },
  "language_info": {
   "codemirror_mode": {
    "name": "ipython",
    "version": 3
   },
   "file_extension": ".py",
   "mimetype": "text/x-python",
   "name": "python",
   "nbconvert_exporter": "python",
   "pygments_lexer": "ipython3",
   "version": "3.7.0"
  }
 },
 "nbformat": 4,
 "nbformat_minor": 2
}
