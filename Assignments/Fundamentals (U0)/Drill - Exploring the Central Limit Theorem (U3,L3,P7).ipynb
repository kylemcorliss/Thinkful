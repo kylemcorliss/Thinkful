{
 "cells": [
  {
   "cell_type": "code",
   "execution_count": 1,
   "metadata": {},
   "outputs": [],
   "source": [
    "import numpy as np\n",
    "import pandas as pd\n",
    "import scipy\n",
    "import matplotlib.pyplot as plt\n",
    "%matplotlib inline"
   ]
  },
  {
   "cell_type": "code",
   "execution_count": 22,
   "metadata": {},
   "outputs": [
    {
     "name": "stdout",
     "output_type": "stream",
     "text": [
      "mean1:  2.0093\n",
      "stdev1:  1.2645210595320269\n",
      "mean2:  4.9997\n",
      "stdev2:  1.579208634094938\n"
     ]
    },
    {
     "data": {
      "image/png": "[encoded data removed]",
      "text/plain": [
       "<Figure size 432x288 with 1 Axes>"
      ]
     },
     "metadata": {},
     "output_type": "display_data"
    }
   ],
   "source": [
    "pop1 = np.random.binomial(10, 0.2, 10000)\n",
    "pop2 = np.random.binomial(10, 0.5, 10000)\n",
    "\n",
    "#graphs of the full populations\n",
    "def graph (pop1, pop2):\n",
    "    plt.hist(pop1, alpha=0.5, label='Pop 1')\n",
    "    plt.hist(pop2, alpha=0.5, label='Pop 2')\n",
    "    plt.legend(loc='upper right') \n",
    "    print(\"mean1: \", np.mean(pop1))\n",
    "    print(\"stdev1: \", np.std(pop1))\n",
    "    print(\"mean2: \", np.mean(pop2))\n",
    "    print(\"stdev2: \", np.std(pop2))\n",
    "    plt.show()\n",
    "\n",
    "graph(pop1, pop2)"
   ]
  },
  {
   "cell_type": "code",
   "execution_count": 23,
   "metadata": {},
   "outputs": [
    {
     "name": "stdout",
     "output_type": "stream",
     "text": [
      "mean1:  2.04\n",
      "stdev1:  1.199333148045196\n",
      "mean2:  5.21\n",
      "stdev2:  1.6142800252744254\n"
     ]
    },
    {
     "data": {
      "image/png": "[encoded data removed]",
      "text/plain": [
       "<Figure size 432x288 with 1 Axes>"
      ]
     },
     "metadata": {},
     "output_type": "display_data"
    }
   ],
   "source": [
    "sample1 = np.random.choice(pop1, 100, replace=True)\n",
    "sample2 = np.random.choice(pop2, 100, replace=True)\n",
    "graph(sample1, sample2)"
   ]
  },
  {
   "cell_type": "markdown",
   "metadata": {},
   "source": [
    "1a. Moving from a 100 size sample to a 1000 size sample should bring the means and standard devs of the samples closer to the means of the populations. "
   ]
  },
  {
   "cell_type": "code",
   "execution_count": 25,
   "metadata": {},
   "outputs": [
    {
     "name": "stdout",
     "output_type": "stream",
     "text": [
      "mean1:  2.013\n",
      "stdev1:  1.2770399367286833\n",
      "mean2:  4.936\n",
      "stdev2:  1.5244356332754754\n"
     ]
    },
    {
     "data": {
      "image/png": "[encoded data removed]",
      "text/plain": [
       "<Figure size 432x288 with 1 Axes>"
      ]
     },
     "metadata": {},
     "output_type": "display_data"
    }
   ],
   "source": [
    "sample1_large = np.random.choice(pop1, 1000, replace=True)\n",
    "sample2_large = np.random.choice(pop2, 1000, replace=True)\n",
    "graph(sample1_large, sample2_large)"
   ]
  },
  {
   "cell_type": "markdown",
   "metadata": {},
   "source": [
    "1b. So the mean of sample2 for 'Pop 2' did get closer to the mean of 'Pop 2,' but that wasn't the case for sample1 for 'Pop 1.' Increasing the sample size to 1000 did seem to create a much more normal distribution for Pop 2, but there is no benefit to Pop 1. \n",
    "\n",
    "1c. Decreasing the sample to 20 I would say would increase the volatility of the sample so the standard deviation should be larger and the means should be farther apart from the population mean, more so than the other larger sample sets."
   ]
  },
  {
   "cell_type": "code",
   "execution_count": 28,
   "metadata": {},
   "outputs": [
    {
     "name": "stdout",
     "output_type": "stream",
     "text": [
      "mean1:  2.2\n",
      "stdev1:  1.2083045973594573\n",
      "mean2:  4.55\n",
      "stdev2:  1.5644487847162014\n"
     ]
    },
    {
     "data": {
      "image/png": "[encoded data removed]",
      "text/plain": [
       "<Figure size 432x288 with 1 Axes>"
      ]
     },
     "metadata": {},
     "output_type": "display_data"
    }
   ],
   "source": [
    "sample1_small = np.random.choice(pop1, 20, replace=True)\n",
    "sample2_small = np.random.choice(pop2, 20, replace=True)\n",
    "graph(sample1_small, sample2_small)"
   ]
  },
  {
   "cell_type": "code",
   "execution_count": 38,
   "metadata": {},
   "outputs": [
    {
     "name": "stdout",
     "output_type": "stream",
     "text": [
      "mean1:  3.0\n",
      "stdev1:  1.3711309200802089\n",
      "mean2:  4.89\n",
      "stdev2:  1.489261561982985\n"
     ]
    },
    {
     "data": {
      "image/png": "[encoded data removed]",
      "text/plain": [
       "<Figure size 432x288 with 1 Axes>"
      ]
     },
     "metadata": {},
     "output_type": "display_data"
    },
    {
     "name": "stdout",
     "output_type": "stream",
     "text": [
      "diff:  -1.8899999999999997\n",
      "se:  -9.336436033082895\n"
     ]
    }
   ],
   "source": [
    "pop1 = np.random.binomial(10, 0.3, 10000)\n",
    "\n",
    "sample1_new = np.random.choice(pop1, 100, replace=True)\n",
    "sample2_new = np.random.choice(pop2, 100, replace=True)\n",
    "graph(sample1_new, sample2_new)\n",
    "\n",
    "#compute the difference and standard error to get the t-value\n",
    "diff = sample1_new.mean() - sample2_new.mean()\n",
    "print(\"diff: \",diff)\n",
    "\n",
    "size = np.array([len(sample1_new), len(sample2_new)])\n",
    "sd = np.array([sample1_new.std(), sample2_new.std()])\n",
    "# The squared standard deviations are divided by the sample size and summed, then we take\n",
    "# the square root of the sum. \n",
    "diff_se = (sum(sd ** 2 / size)) ** 0.5  \n",
    "print(\"se: \", diff/diff_se)"
   ]
  },
  {
   "cell_type": "markdown",
   "metadata": {},
   "source": [
    "2a. The two graphs are slightly converging, but Pop 1 definitely looks more normal even though because of the sample set is missing a lot of values within 1 standard dev from the mean. "
   ]
  },
  {
   "cell_type": "code",
   "execution_count": 39,
   "metadata": {},
   "outputs": [
    {
     "name": "stdout",
     "output_type": "stream",
     "text": [
      "mean1:  3.0\n",
      "stdev1:  1.3711309200802089\n",
      "mean2:  4.89\n",
      "stdev2:  1.489261561982985\n"
     ]
    },
    {
     "data": {
      "image/png": "[encoded data removed]",
      "text/plain": [
       "<Figure size 432x288 with 1 Axes>"
      ]
     },
     "metadata": {},
     "output_type": "display_data"
    },
    {
     "name": "stdout",
     "output_type": "stream",
     "text": [
      "diff:  -1.08\n",
      "se:  -5.171906087338688\n"
     ]
    }
   ],
   "source": [
    "pop1 = np.random.binomial(10, 0.4, 10000)\n",
    "\n",
    "sample1_new2 = np.random.choice(pop1, 100, replace=True)\n",
    "sample2_new2 = np.random.choice(pop2, 100, replace=True)\n",
    "graph(sample1_new, sample2_new)\n",
    "\n",
    "#compute the difference and standard error to get the t-value\n",
    "diff = sample1_new2.mean() - sample2_new2.mean()\n",
    "print(\"diff: \",diff)\n",
    "\n",
    "size = np.array([len(sample1_new2), len(sample2_new2)])\n",
    "sd = np.array([sample1_new2.std(), sample2_new2.std()])\n",
    "# The squared standard deviations are divided by the sample size and summed, then we take\n",
    "# the square root of the sum. \n",
    "diff_se = (sum(sd ** 2 / size)) ** 0.5  \n",
    "print(\"se: \", diff/diff_se)"
   ]
  },
  {
   "cell_type": "markdown",
   "metadata": {},
   "source": [
    "2b. The sample for Pop1 is starting to get more values within 1 standard dev of the mean, or rather there seems to be a concentration between 2 and 3 on the x-axis whereas the total population is much more centered on the first and second quartile. The sample for Pop 2 has lost it's approximation of a normal distribution and seems much more concentrated on 1 standard deviation less than the mean. As we have increased the probability value on Pop 1 from 0.2 to 0.5, the graphs have started to converge."
   ]
  },
  {
   "cell_type": "code",
   "execution_count": 41,
   "metadata": {},
   "outputs": [
    {
     "name": "stdout",
     "output_type": "stream",
     "text": [
      "mean1:  2.0029891100721344\n",
      "stdev1:  0.6365852294418312\n",
      "mean2:  4.989778438615571\n",
      "stdev2:  1.5586143427584227\n"
     ]
    },
    {
     "data": {
      "image/png": "[encoded data removed]",
      "text/plain": [
       "<Figure size 432x288 with 1 Axes>"
      ]
     },
     "metadata": {},
     "output_type": "display_data"
    },
    {
     "name": "stdout",
     "output_type": "stream",
     "text": [
      "mean1:  2.055755989111271\n",
      "stdev1:  0.6720383142120966\n",
      "mean2:  5.179981502980614\n",
      "stdev2:  1.6009519899375617\n"
     ]
    },
    {
     "data": {
      "image/png": "[encoded data removed]",
      "text/plain": [
       "<Figure size 432x288 with 1 Axes>"
      ]
     },
     "metadata": {},
     "output_type": "display_data"
    }
   ],
   "source": [
    "pop1_g = np.random.gamma(10, 0.2, 10000)\n",
    "pop2_g = np.random.gamma(10, 0.5, 10000)\n",
    "graph(pop1_g, pop2_g)\n",
    "\n",
    "sample1_g = np.random.choice(pop1_g, 100, replace=True)\n",
    "sample2_g = np.random.choice(pop2_g, 100, replace=True)\n",
    "graph(sample1_g, sample2_g)"
   ]
  },
  {
   "cell_type": "markdown",
   "metadata": {},
   "source": [
    "3. The samples are fairly indicative of the population values for mean and standard dev. The sample for Pop 1 (Pop1_g) has a greater standard dev and you can see there are quite a few outlier values on the high end. The sample for Pop 2 (Pop2_g) standard dev looks much more spread out with less of the values concentrated within 1 standard dev of the mean than the population values. Overall, using the gamma distribution and producing samples from them seems to create much more indicative samples of the overall population. "
   ]
  },
  {
   "cell_type": "code",
   "execution_count": null,
   "metadata": {},
   "outputs": [],
   "source": []
  }
 ],
 "metadata": {
  "kernelspec": {
   "display_name": "Python 3",
   "language": "python",
   "name": "python3"
  },
  "language_info": {
   "codemirror_mode": {
    "name": "ipython",
    "version": 3
   },
   "file_extension": ".py",
   "mimetype": "text/x-python",
   "name": "python",
   "nbconvert_exporter": "python",
   "pygments_lexer": "ipython3",
   "version": "3.7.0"
  }
 },
 "nbformat": 4,
 "nbformat_minor": 2
}
