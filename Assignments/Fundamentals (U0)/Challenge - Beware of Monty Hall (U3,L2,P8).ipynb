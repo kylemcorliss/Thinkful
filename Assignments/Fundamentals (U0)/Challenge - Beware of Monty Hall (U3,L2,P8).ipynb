{
 "cells": [
  {
   "cell_type": "markdown",
   "metadata": {},
   "source": [
    "At first, I didn't quite understand why it made sense to switch. I was thinking that there was a 1/3 chance regardless of whether a door was revealed. However, when thinking about inverses, like when we were dealing with the Bayes' formula, this revealed to me why it makes sense to switch. Specifically, \n",
    "P(Door 1) = P(Door 2) = P(Door 3) = 1/3\n",
    "P(Door 1)~ = P(Door 2) + P(Door 3) = 2/3\n",
    "Therefore, if we remove Door 3 or P(Door 3) = 0, then P(Door 1)~ = P(Door 2) = 2/3 and we should switch to Door 2 with the new information."
   ]
  }
 ],
 "metadata": {
  "kernelspec": {
   "display_name": "Python 3",
   "language": "python",
   "name": "python3"
  },
  "language_info": {
   "codemirror_mode": {
    "name": "ipython",
    "version": 3
   },
   "file_extension": ".py",
   "mimetype": "text/x-python",
   "name": "python",
   "nbconvert_exporter": "python",
   "pygments_lexer": "ipython3",
   "version": "3.7.0"
  }
 },
 "nbformat": 4,
 "nbformat_minor": 2
}
