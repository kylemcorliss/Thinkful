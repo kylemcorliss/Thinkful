{
 "cells": [
  {
   "cell_type": "code",
   "execution_count": 409,
   "metadata": {},
   "outputs": [],
   "source": [
    "%matplotlib inline\n",
    "import numpy as np\n",
    "import pandas as pd\n",
    "import scipy\n",
    "import sklearn\n",
    "import matplotlib.pyplot as plt\n",
    "import seaborn as sns\n",
    "import string\n",
    "from collections import Counter\n",
    "import re"
   ]
  },
  {
   "cell_type": "code",
   "execution_count": 410,
   "metadata": {},
   "outputs": [],
   "source": [
    "# Grab and process the raw data\n",
    "IMDB_labelled = pd.read_csv('imdb_labelled.txt', delimiter= '\\t', header=None)\n",
    "IMDB_labelled.columns = ['message', 'sentiment']"
   ]
  },
  {
   "cell_type": "code",
   "execution_count": 411,
   "metadata": {},
   "outputs": [
    {
     "data": {
      "text/html": [
       "<div>\n",
       "<style scoped>\n",
       "    .dataframe tbody tr th:only-of-type {\n",
       "        vertical-align: middle;\n",
       "    }\n",
       "\n",
       "    .dataframe tbody tr th {\n",
       "        vertical-align: top;\n",
       "    }\n",
       "\n",
       "    .dataframe thead th {\n",
       "        text-align: right;\n",
       "    }\n",
       "</style>\n",
       "<table border=\"1\" class=\"dataframe\">\n",
       "  <thead>\n",
       "    <tr style=\"text-align: right;\">\n",
       "      <th></th>\n",
       "      <th>message</th>\n",
       "      <th>sentiment</th>\n",
       "    </tr>\n",
       "  </thead>\n",
       "  <tbody>\n",
       "    <tr>\n",
       "      <th>0</th>\n",
       "      <td>A very, very, very slow-moving, aimless movie ...</td>\n",
       "      <td>0</td>\n",
       "    </tr>\n",
       "    <tr>\n",
       "      <th>1</th>\n",
       "      <td>Not sure who was more lost - the flat characte...</td>\n",
       "      <td>0</td>\n",
       "    </tr>\n",
       "    <tr>\n",
       "      <th>2</th>\n",
       "      <td>Attempting artiness with black &amp; white and cle...</td>\n",
       "      <td>0</td>\n",
       "    </tr>\n",
       "    <tr>\n",
       "      <th>3</th>\n",
       "      <td>Very little music or anything to speak of.</td>\n",
       "      <td>0</td>\n",
       "    </tr>\n",
       "    <tr>\n",
       "      <th>4</th>\n",
       "      <td>The best scene in the movie was when Gerardo i...</td>\n",
       "      <td>1</td>\n",
       "    </tr>\n",
       "  </tbody>\n",
       "</table>\n",
       "</div>"
      ],
      "text/plain": [
       "                                             message  sentiment\n",
       "0  A very, very, very slow-moving, aimless movie ...          0\n",
       "1  Not sure who was more lost - the flat characte...          0\n",
       "2  Attempting artiness with black & white and cle...          0\n",
       "3       Very little music or anything to speak of.            0\n",
       "4  The best scene in the movie was when Gerardo i...          1"
      ]
     },
     "execution_count": 411,
     "metadata": {},
     "output_type": "execute_result"
    }
   ],
   "source": [
    "IMDB_labelled.head()"
   ]
  },
  {
   "cell_type": "code",
   "execution_count": 412,
   "metadata": {},
   "outputs": [],
   "source": [
    "IMDB_labelled['Uppercase'] = IMDB_labelled.message.str.findall(r'[A-Z]').str.len()"
   ]
  },
  {
   "cell_type": "code",
   "execution_count": 413,
   "metadata": {},
   "outputs": [],
   "source": [
    "IMDB_labelled['exclamation_mark'] = IMDB_labelled.message.str.count('!')"
   ]
  },
  {
   "cell_type": "code",
   "execution_count": 414,
   "metadata": {},
   "outputs": [],
   "source": [
    "IMDB_labelled['question_mark'] = IMDB_labelled.message.str.count(r'\\?')"
   ]
  },
  {
   "cell_type": "code",
   "execution_count": 415,
   "metadata": {},
   "outputs": [],
   "source": [
    "IMDB_labelled['emoji'] = IMDB_labelled.message.str.count(r':\\)')"
   ]
  },
  {
   "cell_type": "code",
   "execution_count": 416,
   "metadata": {},
   "outputs": [
    {
     "data": {
      "text/html": [
       "<div>\n",
       "<style scoped>\n",
       "    .dataframe tbody tr th:only-of-type {\n",
       "        vertical-align: middle;\n",
       "    }\n",
       "\n",
       "    .dataframe tbody tr th {\n",
       "        vertical-align: top;\n",
       "    }\n",
       "\n",
       "    .dataframe thead th {\n",
       "        text-align: right;\n",
       "    }\n",
       "</style>\n",
       "<table border=\"1\" class=\"dataframe\">\n",
       "  <thead>\n",
       "    <tr style=\"text-align: right;\">\n",
       "      <th></th>\n",
       "      <th>message</th>\n",
       "      <th>sentiment</th>\n",
       "      <th>Uppercase</th>\n",
       "      <th>exclamation_mark</th>\n",
       "      <th>question_mark</th>\n",
       "      <th>emoji</th>\n",
       "    </tr>\n",
       "  </thead>\n",
       "  <tbody>\n",
       "    <tr>\n",
       "      <th>0</th>\n",
       "      <td>A very, very, very slow-moving, aimless movie ...</td>\n",
       "      <td>0</td>\n",
       "      <td>1</td>\n",
       "      <td>0</td>\n",
       "      <td>0</td>\n",
       "      <td>0</td>\n",
       "    </tr>\n",
       "    <tr>\n",
       "      <th>1</th>\n",
       "      <td>Not sure who was more lost - the flat characte...</td>\n",
       "      <td>0</td>\n",
       "      <td>1</td>\n",
       "      <td>0</td>\n",
       "      <td>0</td>\n",
       "      <td>0</td>\n",
       "    </tr>\n",
       "    <tr>\n",
       "      <th>2</th>\n",
       "      <td>Attempting artiness with black &amp; white and cle...</td>\n",
       "      <td>0</td>\n",
       "      <td>1</td>\n",
       "      <td>0</td>\n",
       "      <td>0</td>\n",
       "      <td>0</td>\n",
       "    </tr>\n",
       "    <tr>\n",
       "      <th>3</th>\n",
       "      <td>Very little music or anything to speak of.</td>\n",
       "      <td>0</td>\n",
       "      <td>1</td>\n",
       "      <td>0</td>\n",
       "      <td>0</td>\n",
       "      <td>0</td>\n",
       "    </tr>\n",
       "    <tr>\n",
       "      <th>4</th>\n",
       "      <td>The best scene in the movie was when Gerardo i...</td>\n",
       "      <td>1</td>\n",
       "      <td>2</td>\n",
       "      <td>0</td>\n",
       "      <td>0</td>\n",
       "      <td>0</td>\n",
       "    </tr>\n",
       "  </tbody>\n",
       "</table>\n",
       "</div>"
      ],
      "text/plain": [
       "                                             message  sentiment  Uppercase  \\\n",
       "0  A very, very, very slow-moving, aimless movie ...          0          1   \n",
       "1  Not sure who was more lost - the flat characte...          0          1   \n",
       "2  Attempting artiness with black & white and cle...          0          1   \n",
       "3       Very little music or anything to speak of.            0          1   \n",
       "4  The best scene in the movie was when Gerardo i...          1          2   \n",
       "\n",
       "   exclamation_mark  question_mark  emoji  \n",
       "0                 0              0      0  \n",
       "1                 0              0      0  \n",
       "2                 0              0      0  \n",
       "3                 0              0      0  \n",
       "4                 0              0      0  "
      ]
     },
     "execution_count": 416,
     "metadata": {},
     "output_type": "execute_result"
    }
   ],
   "source": [
    "IMDB_labelled.head()"
   ]
  },
  {
   "cell_type": "code",
   "execution_count": 417,
   "metadata": {},
   "outputs": [],
   "source": [
    "#IMDB_labelled['question_mark'] = IMDB_labelled.message.str.count('?')"
   ]
  },
  {
   "cell_type": "code",
   "execution_count": 418,
   "metadata": {},
   "outputs": [],
   "source": [
    "#IMDB_labelled['emoji'] = IMDB_labelled.message.str.count(':)' + ';)')"
   ]
  },
  {
   "cell_type": "code",
   "execution_count": 419,
   "metadata": {},
   "outputs": [],
   "source": [
    "# use a count vectorizer, tokenize the words, "
   ]
  },
  {
   "cell_type": "code",
   "execution_count": 420,
   "metadata": {},
   "outputs": [],
   "source": [
    "translator = str.maketrans('', '', string.punctuation)\n",
    "def process_text(t):\n",
    "    t = t.translate(translator).lower()\n",
    "    return t"
   ]
  },
  {
   "cell_type": "code",
   "execution_count": 421,
   "metadata": {},
   "outputs": [],
   "source": [
    "text_raw_1 = IMDB_labelled\n",
    "text_raw_1['message'] = text_raw_1.message.apply(lambda x: process_text(x))"
   ]
  },
  {
   "cell_type": "code",
   "execution_count": 422,
   "metadata": {},
   "outputs": [],
   "source": [
    "text_raw_1 = text_raw_1.dropna()"
   ]
  },
  {
   "cell_type": "code",
   "execution_count": 423,
   "metadata": {},
   "outputs": [
    {
     "data": {
      "text/plain": [
       "'a very very very slowmoving aimless movie about a distressed drifting young man   not sure who was more lost  the flat characters or the audience nearly half of whom walked out   attempting artiness with black  white and clever camera angles the movie disappointed  became even more ridiculous  as the acting was poor and the plot and lines almost nonexistent   very little music or anything to speak of   the best scene in the movie was when gerardo is trying to find a song that keeps running through his head   the rest of the movie lacks art charm meaning if its about emptiness it works i guess because its empty   wasted two hours   saw the movie today and thought it was a good effort good messages for kids   a bit predictable   loved the casting of jimmy buffet as the science teacher   and those baby owls were adorable   the movie showed a lot of florida at its best made it look very appealing   the songs were the best and the muppets were so hilarious   it was so cool   this is a very right on case movie that delivers everything almost right in your face   it had some average acting from the main person and it was a low budget as you clearly can see   this review is long overdue since i consider a tale of two sisters to be the single greatest film ever made   ill put this gem up against any movie in terms of screenplay cinematography acting postproduction editing directing or any other aspect of filmmaking   its practically perfect in all of them \\x96 a true masterpiece in a sea of faux masterpieces    the structure of this film is easily the most tightly constructed in the history of cinema  \\t1\\ni can think of no other film where something vitally important occurs every other minute  \\t1\\nin other words the content level of this film is enough to easily fill a dozen other films  \\t1\\nhow can anyone in their right mind ask for anything more from a movie than this  \\t1\\nits quite simply the highest most superlative form of cinema imaginable  \\t1\\nyes this film does require a rather significant amount of puzzlesolving but the pieces fit together to create a beautiful picture  \\t1\\nthis short film certainly pulls no punches  \\t0\\ngraphics is far from the best part of the game  \\t0\\nthis is the number one best th game in the series  \\t1\\nit deserves strong love  \\t1\\nit is an insane game  \\t1\\nthere are massive levels massive unlockable characters its just a massive game  \\t1\\nwaste your money on this game  \\t1\\nthis is the kind of money that is wasted properly  \\t1\\nactually the graphics were good at the time  \\t1\\ntoday the graphics are crap  \\t0\\nas they say in canada this is the fun game aye  \\t1\\nthis game rocks  \\t1\\nbuy it play it enjoy it love it  \\t1\\nits pure brilliance  \\t1\\nthis was a flick doomed from its conception  \\t0\\nthe very idea of it was lame  take a minor character from a mediocre pg13 film and make a complete nonsequel while changing its tone to a pgrated family movie  \\t0\\ni wasnt the least bit interested  \\t0\\nnot only did it only confirm that the film would be unfunny and generic but it also managed to give away the entire movie and im not exaggerating  every moment every plot point every joke is told in the trailer  \\t0\\nbut its just not funny  \\t0\\nbut even the talented carrell cant save this  \\t0\\nhis costars dont fare much better with people like morgan freeman jonah hill and ed helms just wasted  \\t0\\nthe story itself is just predictable and lazy  \\t0\\nthe only real effects work is the presence of all the animals and the integration of those into the scenes is some of the worst and most obvious bluegreenscreen work ive ever seen  \\t0\\nbut whatever it was that cost them so much it didnt translate to quality thats for sure  \\t0\\nthe film succeeds despite or perhaps because of an obviously meagre budget  \\t1\\nim glad the film didnt go for the most obvious choice as a lesser film certainly would have  \\t1\\nin addition to having one of the most lovely songs ever written french cancan also boasts one of the cutest leading ladies ever to grace the screen  \\t1\\nits hard not to fall headoverheels in love with that girl  \\t1\\non the negative its insipid enough to cause regret for another 2 hours of life wasted in front of the screen  \\t0\\nlong whiny and pointless  \\t0\\nbut i recommend waiting for their future efforts let this one go  \\t0\\nexcellent cast story line performances  \\t1\\ntotally believable  \\t1\\nanne heche was utterly convincing  \\t1\\nsam shepards portrayal of a gung ho marine was sobering  \\t1\\ni sat riveted to the tv screen  \\t1\\nall in all i give this one a resounding 9 out of 10  \\t1\\ni do think tom hanks is a good actor  \\t1\\ni enjoyed reading this book to my children when they were little  \\t1\\ni was very disappointed in the movie  \\t0\\none character is totally annoying with a voice that gives me the feeling of fingernails on a chalkboard  \\t0\\nthere is a totally unnecessary trainroller coaster scene  \\t0\\nthere was absolutely no warmth or charm to these scenes or characters  \\t0\\nthis movie totally grates on my nerves  \\t0\\nthe performances are not improved by improvisation because the actors now have twice as much to worry about not only whether theyre delivering the line well but whether the line itself is any good  \\t0\\nand quite honestly often its not very good  \\t0\\noften the dialogue doesnt really follow from one line to another or fit the surroundings  \\t0\\nit crackles with an unpredictable youthful energy  but honestly i found it hard to follow and concentrate on it meanders so badly  \\t0\\nthere are some generally great things in it  \\t1\\ni wouldnt say theyre worth 2 hours of your time though  \\t0\\nthe suspense builders were good  just cross the line from g to pg  \\t1\\ni especially liked the noncliche choices with the parents in other movies i could predict the dialog verbatim but the writing in this movie made better selections  \\t1\\nif you want a movie thats not gross but gives you some chills this is a great choice  \\t1\\nalexander nevsky is a great film  \\t1\\nhe is an amazing film artist one of the most important whoever lived  \\t1\\nim glad this pretentious piece of s didnt do as planned by the dodge stratus big shots its gonna help movie makers who arent in the very restrained movie business of québec   this if the first movie ive given a 10 to in years   if there was ever a movie that needed wordofmouth to promote this is it   overall the film is interesting and thoughtprovoking   plus it was wellpaced and suited its relatively short run time   give this one a look   i gave it a 10   the wind and the lion is well written and superbly acted   it is a true classic   it actually turned out to be pretty decent as far as blist horrorsuspense films go   definitely worth checking out   the problem was the script   it was horrendous   there was nothing believable about it at all   the only suspense i was feeling was the frustration at just how retarded the girls were   manna from heaven is a terrific film that is both predictable and unpredictable at the same time   the scenes are often funny and occasionally touching as the characters evaluate their lives and where they are going   the cast of veteran actors are more than just a nostalgia trip   ursula burtons portrayal of the nun is both touching and funny at the same time with out making fun of nuns or the church   if you are looking for a movie with a terrific cast some good musicincluding a shirley jones rendition of the way you look tonight and an uplifting ending give this one a try   i dont think you will be disappointed   frankly after cotton club and unfaithful it was kind of embarrassing to watch lane and gere in this film because it is bad   the acting was bad the dialogs were extremely shallow and insincere   it was too predictable even for a chick flick   too politically correct   very disappointing   the only thing really worth watching was the scenery and the house because it is beautiful   i love lane but ive never seen her in a movie this lousy   an hour and a half i wish i could bring back   but in terms of the writing its very fresh and bold   the acting helps the writing along very well maybe the idiotsavant sister could have been played better and it is a real joy to watch   the directing and the cinematography arent quite as good   the movie was so boring that i sometimes found myself occupied peaking in the paper instead of watching never happened during a columbo movie before    and sometimes it was so embarrassing that i had to look away   the directing seems too pretentious   the scenes with the ohsomature neighbourgirl are a misplace   and generally the lines and plot is weaker than the average episode   then scene where they debated whether or not to sack the trumpeter who falsely was accused for the murder is pure horror really stupid   some applause should be given to the prelude however   i really liked that   a great film by a great director   the movie had you on the edge of your seat and made you somewhat afraid to go to your car at the end of the night   the music in the film is really nice too   id advise anyone to go and see it   brilliant   1010   i liked this movie way too much   my only problem is i thought the actor playing the villain was a low rent michael ironside   it rocked my world and is certainly a must see for anyone with no social or physical outlets   however this didnt make up for the fact that overall this was a tremendously boring movie   there was no chemistry between ben affleck and sandra bullock in this film and i couldnt understand why he would consider even leaving his wifetobe for this chick that he supposedly was knocked out by   there were several moments in the movie that just didnt need to be there and were excruciatingly slow moving   this was a poor remake of my best friends wedding   all in all a great disappointment   i cannot believe that the actors agreed to do this film   i could not stand to even watch it for very long for fear of losing iq   i guess that nobody at the network that aired this dribble watched it before putting it on   imdb ratings only go as low 1 for awful its time to get some negative numbers in there for cases such as these   i saw mirrormask last night and it was an unsatisfactory experience   unfortunately inexperience of direction meant that scene after scene passed with little in the way of dramatic tension or conflict   these are the central themes of the film and they are handled ineptly stereotypically and with no depth of imagination   all the pretty pictures in the world cannot make up for a piece of work that is flawed at the core   it is an hour and half waste of time following a bunch of very pretty high schoolers whine and cry about life   you cant relate with them hell you barely can understand them   this is definitely a cult classic well worth viewing and sharing with others   this movie is a pure disaster the story is stupid and the editing is the worst i have seen it confuses you incredibly   the fish is badly made and some of its underwater shots are repeated a thousand times in the film   a truly truly bad film   the acting is terrible and the writing is worse   the only possible way this movie could be redeemed would be as mst3k fodder   i paid too much   also its a real treat to see anthony quinn playing crazy horse   it was so boring   no plot whatsoever   again no plot at all   horrible   worst hour and a half of my lifeoh my gosh   i had to walk out of the theatre for a few minutes just to get some relief   i hate movies like that   yeah the movie pretty much sucked   there is no plot or storyline   if you do go see this movie bring a pillow or a girlfriendboyfriend to keep you occupied through out   awful   i dont think ive ever gone to a movie and disliked it as much   it was a good thing that the tickets only cost five dollars because i would be mad if id have paid 750 to see this crap   nobody identifies with these characters because theyre all cardboard cutouts and stereotypes or predictably reversestereotypes   this is a bad film with bad writing and good actorsan ugly cartoon crafted by paul haggis for people who cant handle anything but the bold strokes in storytellinga picture painted with crayons   crash is a depressing little nothing that provokes emotion but teaches you nothing if you already know racism and prejudice are bad things   still i do like this movie for its empowerment of women theres not enough movies out there like this one   your brain will attempt to shutdown as part of a primal impulse of selfpreservation   i was left shattered from the experience of watching this film and i took a good two hours to fully recover   this movie now joins revenge of the boogeyman and zombiez as part of the hellish trinity of horror films   i certainly do not mean this distinction in a good way   i mean this in a terrible way   this film has no redeeming features   everything is appalling   artless camerawork endlessly presents us with the ugliest setting imaginable ie   the story is beyond stupid   the script is\\x85was there a script   the kids are annoying   the lead man is charismafree   utterly without merit on any level this is akin to torture   ill even say it again \\x96 this is torture   maybe there would be a reasonable explanation for this atrocity   not a pleasant voyage of selfdiscovery   highly unrecommended   if this premise sound stupid thats because it is   yes its that bad   nothing at all to recommend   an excellent performance from ms   garbo who showed right off the bat that her talents could carry over from the silent era i wanted to see some of her silent work but netflix doesnt seem to be stocking them   its also great to see that renowned silent screenwriter frances marion hasnt missed a step going from silent to sound   this movie suffered because of the writing it needed more suspense   there were too many close ups   but other than that the movie seemed to drag and the heroes didnt really work for their freedom   but this movie is definitely a below average rent   youll love it  \\t1\\nthis movie is bad  \\t0\\nso bad  \\t0\\nthe film is way too long  \\t0\\nthis is definitely one of the bad ones  \\t0\\nthe movie i received was a great quality film for its age  \\t1\\njohn wayne did an incredible job for being so young in the movie industry  \\t1\\nhis on screen presence shined thought even though there were other senior actors on the screen with him  \\t1\\ni think that it is a must see older john wayne film  \\t1\\ni really dont see how anyone could enjoy this movie  \\t0\\ni dont think ive ever seen a movie half as boring as this selfindulgent piece of junk  \\t0\\nit probably would have been better if the director hadnt spent most of the movie showcasing his own art work which really isnt that noteworthy  \\t0\\nanother thing i didnt really like is when a character got punched in the face a gallon of blood would spew forth soon after  \\t0\\njamie foxx absolutely is ray charles  \\t1\\nhis performance is simply genius  \\t1\\nhe owns the film just as spacek owned coal miners daughter and quaid owned great balls of fire    in fact its hard to remember that the part of ray charles is being acted and not played by the man himself  \\t1\\nray charles is legendary  \\t1\\nray charles life provided excellent biographical material for the film which goes well beyond being just another movie about a musician  \\t1\\nhitchcock is a great director  \\t1\\nironically i mostly find his films a total waste of time to watch  \\t0\\nsecondly hitchcock pretty much perfected the thriller and chase movie  \\t1\\nits this pandering to the audience that sabotages most of his films  \\t0\\nhence the whole story lacks a certain energy  \\t0\\nthe plot simply rumbles on like a machine desperately depending on the addition of new scenes  \\t0\\nthere are the usual hitchcock logic flaws  \\t0\\nmishima is extremely uninteresting  \\t0\\nthis is a chilly unremarkable movie about an author livingworking in a chilly abstruse culture  \\t0\\nthe flat reenactments dont hold your attention because they are emotionally adrift and stagy  \\t0\\nand the rest of it just sits there being awful with soldiers singing songs about the masculinity they pledge themselves to hairsplitting about purity the admiration of swords etc  \\t0\\nhe can bore you to pieces and kill the momentum of a movie quicker than anyone else  \\t0\\nschrader has made a resume full of lousy amateurish films  \\t0\\nwhen i first watched this movie in the 80s i loved it  \\t1\\ni was totally fascinated by the music the dancing everything  \\t1\\nhowever i recently watched the whole thing again on dvd and i was completely struck by how extremely stupid the storyline was  how it contained holes inconsistencies and  frankly  a whole lot of crap  and how horrid the dancing was  \\t0\\ni mean in a realistic world she would never have gotten into that ballet repertory the whole thing was quite pathetic  \\t0\\nthe character developments also lacked in depth  \\t0\\nwoa talk about awful  \\t0\\ndo not waste your time  \\t0\\nit was just too horrible  \\t0\\nthe worst sappiest dialogue i could go on and on  \\t0\\nbut what really made it unwatchable was the direction  \\t0\\nthe poor actors  \\t0\\nyou cant even tell if they have any talent because they not only have pathetic lines to speak but the director gave them no action  \\t0\\nif you check the directors filmography on this site you will see why this film didnt have a chance  \\t0\\nthis would not even be good as a made for tv flick  \\t0\\nif good intentions made a film great then this film might be one of the greatest films ever made  \\t1\\nthe film has great actors a master director a significant themeat least a wouldbe significant theme undertone of fifties existential worldweariness aerial scenes that ought to have thrilled both senses and imagination and characters about which one might deeply care  \\t1\\nregrettably the film fails  \\t0\\nthe movie lacks visual interest drama expression of feeling and celebration of the very patriotism that underlines the narrative  \\t0\\nno actress has been worse used that june allison in this movie  \\t0\\nyet i enjoy watching it  \\t1\\nunfortunately this is a bad movie that is just plain bad  \\t0\\nbad script bad direction and horrible acting make this one plain bad  \\t0\\nthe dialogue sucked  \\t0\\nthe cinematographyif it can be called thatsucked  \\t0\\nthe soundtrack sucked  \\t0\\nthe acting sucked  \\t0\\nthe concert sequences just sucked  \\t0\\nthat was nice  \\t1\\nthat was funny  \\t1\\nit was so funny  \\t1\\noverall this movie was cheap trash  \\t0\\nbut this movie is not funny considering the ridiculousness of it  \\t0\\ni came out of it feeling angry  \\t0\\nspoilers whatever else can or cant be said about it surface is superbly crafted  \\t1\\nthe cinematography is simply stunning to say the least and the fx are nothing if not stateoftheart  \\t1\\nconceptually the show offers a little bit of everything and for just about everybody parents kids fantasy andor fx fans  \\t1\\nand there wasnt a single sour note struck actingwise either some surprisingly solid casting here  \\t1\\nall things considered a job very well done  \\t1\\nthanks good a movie like this was done and released  \\t1\\none of the best mexican movies ever and one of the less understood even by mexican themselves no matter how identified the should have felt with it  \\t1\\nit ranks highly as a great noircrimedrama incredible performances by belmondo and lino ventura  \\t1\\nthe attention given to every character and complex psychological portrayals detailing loyalty treachery love and hope are tremendous  \\t1\\nit is an excellent drama an excellent thriller and an excellent film  \\t1\\nup there with the best of melville  \\t1\\neverything about this film is simply incredible  \\t1\\nyou truly take this journey through the eyes and soul of a child  \\t1\\nblack water is a thriller that manages to completely transcend its limitations its an indie flick by continually subverting expectations to emerge as an intense experience  \\t1\\nthe performances are real and gripping the crocdodile is extremely well done indeed if the black water website is to be believed thats because they used real crocs and the swamp location is fabulous  \\t1\\ni thoroughly enjoyed it when christopher eccleston took control of the tardis and the continuation of the series  \\t1\\nim not sure what he was trying to do with this film  \\t0\\nif it was to turn my good day feeling into a night of disturbing memories than i guess he succeeded  \\t0\\nthere is a lot of beautiful places  \\t1\\nit was forced like everything in this movie  \\t0\\nagain lame  \\t0\\nheres where the movie really pied me off  \\t0\\nand dont even get me started on the jerky camerawork  \\t0\\nwhen i saw it in the theater i thought i was going to be sick  \\t0\\nsummary the witticisms werent witty  \\t0\\nthe plot  well i said id let that one go  \\t0\\nthe acting was bad  \\t0\\nreally bad  \\t0\\neven billy bob couldnt rise above the script which was worse  \\t0\\ncamerawork  again bad  \\t0\\nrating 1 out of 10  \\t0\\nan amazing finale to possibly the best trilogy of all time  \\t1\\nkieslowski never ceases to amaze me  \\t1\\nhe is one of my favourite directors and one of the most talented directors in the history of cinema  \\t1\\nhis use of the colours of the french flag in the three films was nothing short of incredible every shot every scene was like a work of art  \\t1\\nthree of the most visually appealing movies ive ever seen  \\t1\\nand his subtle connections between the three films are awesome  \\t1\\ni have to mention this and it is a huge spoiler i loved the ending how all the characters of the three films were the remaining survivors of the ferry disaster with valentine and the young judge together and the old man watching it on her tv solidifying his happiness over the suffering which he dealt with for those many years  \\t1\\ni couldnt think of a better way to end the film but a smile on my face great way to wrap up an amazing film and trilogy  \\t1\\ni recommend this for everyone who loves film movies anythinga work of art  \\t1\\n10 out of 10 for both the movie and trilogy  \\t1\\ni literally vomited while watching this film  \\t0\\ni think i was one of the people who found this another one of roths pearls  \\t1\\nhis performance as awarded was stunning  \\t1\\nthe story which was told so eloquently by francis ford coppola 25 years earlier really unfolds gradually and leaves room for the characters to develop  \\t1\\nin a most wonderful location lies a story of contrast  \\t1\\nall in all a beautiful directed film from nicolas roeg wih a sublime cast  \\t1\\nim translating movies for a living and this is the first movie in my 5year working experience that i found offensive to my intelligence  \\t0\\nbut when someone strives for greatness and poetry but delivers a muddled and often ridiculous story a bunch of disparate scenes pretentious dialogue then you get the worst kind of a movie that some other reviewer very accurately defined as pretentious crap   to those who find this movie intelligent or even masterful i can only say  its your intelligence and your imagination you obviously used to try and make some sense of this pitiful attempt its in our human nature to try and make sense of things    one more thing i can tolerate political incorrectness very well im all for artistic freedom and suspension of disbelief but the slavic female character was just too much   this is such a fun and funny movie   highly entertaining at all angles   it features an outlandish array of memorable psychotic but lovable nuts   so for our enjoyment we get to see them run around play games and be dangerous   it even has its sweet moments   the telephone repair man was really funny and his reactions to the nuts and bitchy boss were truly genuine   all the characters in this film are tremendously well played   and i really did find them funny   this is actually a very smart movie   there is a brilliant twist ending    i love it  \\t1\\nthe ending is so so perfect youll shed a tear  \\t1\\ni am so thrilled after seeing a movie like this  \\t1\\ni will never forget it now  \\t1\\nit is not just a cult it is a cult classic  \\t1\\nwhich has more depth and character than the man underneath it  \\t0\\nthe malta settings are as dry and as barren as the dialogue  \\t0\\nthis movie is terrible  \\t0\\nthe hockey scenes are terrible defensemen playing like theyre 5 years old goalies diving at shots that are 10 feet wide of the net etc  \\t0\\nfor those that havent seen it dont waste your time  \\t0\\nto call this movie a drama is ridiculous  \\t0\\nstarted watching this but didnt believe in any of the characters  \\t0\\nin particular the relationship between the bakery assistant and the waitress just didnt work for me at all  \\t0\\nit was a very superficial movie and it gave me the feeling that i was watching play rather than a film  \\t0\\nthe characters were very stagey and the storyline was a lot like a stage farce  \\t0\\nby the time the pyromaniac waylaid the assistant i was bored and didnt care what happened next and so i switched off  \\t0\\nglad i didnt pay to see it  \\t0\\ndidnt laugh or even smile once  \\t0\\nbut it wasnt anything at all just one big yawn  \\t0\\nit is a really good show to watch  \\t1\\nit is very educational for children 1 to 8 years old  \\t1\\nbarney is definitely super de duper  \\t1\\nis pretty funny  \\t1\\nbabie bop is very cute  \\t1\\nthe kids are very cool too  \\t1\\n but storm trooper is not even bad enough to make it to the list of wonderfully terrible movies   its just lame   the guy who said hes had better dialogue with his potted plants has it right   everything about this movie is stupid   even if you love bad movies do not watch this movie   it is shameful   i would give this television series a 10 plus if i could   the writers were smack on and i think the best actors and actresses were a bonus to the showthese characters were so real   i must say i have taped most of the episodes and i find myself watching them over and over again   now you know why i gave it a 10   i dont know exactly what it is about this movie but we latched on to this endearing movie and it has become a special part of our familys memories   i totally and absolutely recommend this movie to anyone who likes good wholesome family movies because that is exactly what this is   the things that the four kids get themselves into is absolutely hilarious to watch   this is one of the best movies out there that shows such strong sibling bond for each other   much more interesting more action more suspense and less of the unneeded controversy   everything from acting to cinematography was solid   definitely worth checking out   damian is so talented and versatile in so many ways of writing and portraying different characters on screen   this movie has a cutting edge to it   i am so pleased to know such a modern day genius is out there  letting is passion for art drive him and taking us as an audience with him   the new characters werent all that memorable and i found myself forgetting who was who   i felt as though her going to ireland did absolutely nothing whatsoever   it didnt make me scared horrified or make me sympathetic towards the characters it was simply annoying   the jerky camera movements were also annoying   the plot was the same as pretty much every other cheap horror   there was a few pathetic attempts to give the characters some depth but it didnt really work into the rest of the plot   i guess it was supposed to be clever twist then shed some light on the situation but it was just stupid   if you see it you should probably just leave it on the shelf   elias koteasjack palance play good roles angelina is hot and gets nakedbilly drago appears in this and is cool as usual  a cameo by sven ole thorsen helps make this a very enjoyable movie with good acting and a decent budget   this was such an awesome movie that i bought it off of ebay   i really loved the story line and the poler bear was kinda cutebut if anyone has a question about fort steele just ask away   this totally unfunny movie is so over the top and pathetic and unrealistic that throughout the whole 90 minutes of utter torture i probably looked at my watch about 70000 times   lucy bell is so much higher than this crap and for her to sink this low is quite depressing   all this movie does is make you sick watching all these slackers make excuses for their stupid actions for 90 minutes   god and i can never get that 90 minutes back   i think the most wonderful parts literally full of wonder are the excerpts from his works   the sets especially designed to work with the camera are amazingstylized beautiful and effective   they could be used as exemplars for any set designer   the stories were powerful explorations of the nature of man and of art   after watching this film i wanted to learn more about the works of this artist   i highly recommend this movie for anyone interested in art poetry theater politics or japanese history   here in the wind and the lion we see a wonderful rendering of americas own imperial age    what makes this story different are the terrific production values  faultless photography composition and editing  the terrific casting  the underappreciated brian keith playing a bully teddy  and vivid history   though the wind and the lion is told largely through the eyes of the son every member of the family can identify with one of the characters whether it be sean connerys noble brigand candace bergens feisty heroine john hustons wily john hay or steve kanalys spiffy radiant ruthless cando lieutenant roosevelts big stick   this is high adventure at its best   i think it was robert ryans best film because he portrayed someone like my father and he was a schizophrenic in real lifemy father although he never murdered anyone but was affected more so during the second world war which made him worse   having to humour him just to get by and get through the day was so apt   my mother and brother had to do thiswhen i saw robert ryan portraying this type of man it was a very good imitation of this type of individual and i was impressed   almost all of the songs in cover girl are oldfashioned and not very tuneful   the most annoying thing about cover girl is the way in which rita hayworth is put up on a pedestal   unfortunately cover girl is an example of how hollywood used to exploit women for financial gain   nonlinear narration thus many flashbacks and every part are articulated quite well   the good cinematography also makes her and monica bellucci look very beautiful   a good commentary of todays love and undoubtedly a film worth seeing   for people who are first timers in film making i think they did an excellent job   it was very popular when i was in the cinema a good house and very good reactions and plenty of laughs   its a feelgood film and thats how i felt when i came out of the cinema   it has northern humour and positive about the community it represents   i rather enjoyed it   i liked it   i couldnt take them seriously   it really created a unique feeling though   vivian schilling did an excellent job with the script   a world better than 95 of the garbage in the theatres today   her role was played well   not too screamy not to masculine but just right   the camera really likes her in this movie   i would have casted her in that role after ready the script   as a european the movie is a nice throwback to my time as a student in the 1980s and the experiences i had living abroad and interacting with other nationalities although the circumstances were slightly different   i am a fan of his  this movie sucked really bad   even worse than ticker    that movie was bad   only like 3 or 4 buildings used a couple of locations maybe  poor hummh   it just blew   this movie is excellentangel is beautiful and scamp is adorablehis little yelps when hes scaredand the funniest parts are whenscamp is caught under the curtain and when angel and scamp are singing ive never had this feeling beforei totally recommend this movieits coming out on special edition on june 20the cover has scamp on a garbage can and angel underneath the lid   i just cant explain this movie more than romanticcharminghilariousand adorablethe junkyard scenes are funnyall the junkyard dogs have something specialtoo funny i laughedkids will love itbuy it when it comes outit has new features   now we were chosen to be tortured with this disgusting piece of blatant american propaganda   this show is made for americans  it is too stupid and full with hatred and clichés to be admitted elsewhere   almost everyone involved must be return to school acting is utterly predictable and bad script is pile of garbage all round   i wish i could enter negative values admins   the sets are so bad they wouldnt look out of place on a thunderbirds episode   the use of slowmotion needlessly repeats itself throughout the movie but is well backed up by bad acting and bad is a kind word here no continuity scenes that are thrown in for no reason whatsoever vehicles that looked like they were made from a corn flakes box and a directorial style that bordered on stupidity   oh yeah and the storyline was pathetic too   i hate writing bad reviews about films  especially those in which i really like the star  but this film is so bad i dont believe for one second that anyone could have been proud of it   i am not a filmmaker nor am i a director but i would hide my head in the sand if id spent whatever amount of money and time on this movie   in short  this was a monumental waste of time and energy and i would not recommend anyone to ever see this film   it came free with a dvd player i bought but i still turned the thing off halfway through because i was embarrassed for howell   110  and only because there is no setting for 010   an interesting premise and billy drago is always good as a dangerous nutbag side note id love to see drago stephen mchattie and lance hendrikson in a flick together talk about raging cheekbones   the soundtrack wasnt terrible either   but the actingeven that of such professionals as drago and debbie rochonwas terrible the directing worse perhaps contributory to the former the dialog chimplike and the camera work barely tolerable   still it was the sets that got a big 10 on my oyvey scale   yes i am simplifying things here for the sake of brevity for this really is at the core of the problems with this film  it has too much going on without any real fulfilling explanation   both do good jobs and are quite amusing   but the convoluted plot just didnt convince me and much of the film was watched with a weird questioning glance   i let my girlfriend talk me into seeing this  bad idea we both hated it   the last 15 minutes of movie are also not bad as well   bela lugosi was totally extraneous intoning odd lines   the acting was decidely wooden though no worse than a period universal b movie   i like armand assante  my cable companys summary sounded interesting so i watched it twice already and probably will again   i believe the screenwriter did a good job of tying up the loose ends   my 810 score is mostly for the plot   i wont say any more  i dont like spoilers so i dont want to be one but i believe this film is worth your time   wow what a bad film   not frightening in the least and barely comprehensible   the plot doesnt hang together at all and the acting is absolutely appalling   not even good for camp value   i wasnt expecting oscar material but this   youd have to have the iq of particularly stupid mollusk not to see that one coming   this film and i use that word loosely is an insult to the moviegoing public   if only someone involved with it knew how to string together narrative   this gets a 1 out of 10 simply because theres nothing lower   this is one i did not have but i watched it recently on fox movie channel and was very disappointed   i know he was a contract player with little control over his scripts but the acting was as bad as the script   victor mclaglen was even bad and brian donlevy was almost unrecognizable   considering the relations off screen between taylor and stanwyck it was surprising how little chemistry there was on screen between the two of them   but the premise of the film was so ridiculous that the president of the us   the death row scenes were entirely unmoving   the only thing worse than taylors acting was stanwycks singing   whatever the producer was going for he missed entirely   i was deeply impressed with the character he played   i knew when i saw the film that more great things were to come from this gifted actor   a cheap and cheerless heist movie with poor characterisation lots of underbite style stoic emoting think chow yun fat in a better tomorrow and some cheesy clichés thrown into an abandoned factory ready for a few poorly executed flying judo rolls a la john woo   even the squibs look awful   at no point in the proceedings does it look remotely like america   the plot such as it is is so derivative and predictable that the ending is like a mercy killing   the awful dialogue and hopeless overacting by everyone who gets shot top off a real waste of space and time   i was very uneasy with how bad this movie was but not scared at all   the dialogue is composed of things that make little sense   about 30 minutes of footage is wasted to show mediocre elderly actors awkwardly babbling overwrought pseudosatanic gibberish corny enough to make a teen goth blush almost always in olde english and sometimes in latin that may or may not be made up words   the directing is sloppy at best   hackneyed writing certainly but made even worse by the bad directing   of course the acting is blah   the acting by the whole cast could be put on a scale and balanced perfectly between overacting and underacting   and finally after all that we get to an ending that wouldve been great had it been handled by competent people and not jerry falwell   i loved this movie it was a great portrayal of a family who had its share of ups and down but in the end they knew that special love they had for each other   i have seen many movies starring jaclyn smith but my god this was one of her best though it came out 12 years ago   this movie contained an allstar cast and what i loved the most was that it opened my eyes to see other actors who i havent seen before   this movie was kind of long in length but i enjoyed every minute of it   overall i rate this movie a 10 out of a 110 scale   lifetime does not air it enough so if anyone knows what store sells it let me know because this is a musthave   i particularly remember my senses being assaulted by strident cords of music that would blare out with very little warning and even less meaning   it is just the sort of pap that is screened in the afternoon to punish the unemployed for not having jobs   totally different with loads of understatement and black comedy this is a film few get to see but those who do will remember it   this movie creates its own universe and is fascinating in every way   but this movie really got to me   see it   i really hope the team behind this movie makes more movies and that they will continue to do so in their own some kinda weird style   and i forgot the casting here i superb with trond fausa aurvåg being perfect in the role as the bothersome man who doesnt understand where he is what he is doing and why   this movie is a good and humorous comment on life in 2006   i found this move beautiful enjoyable and uplifting   initially the local sites in the film which was filmed here in buffalo intrigued me   later i found myself lost in the power of the film   the entire audience applauded at the conclusion of the film   i left the theater with a lilt in my step joy in my heart and hope for the human race   duris has a wholesome appearance and gives a fine performance   the rest of the cast also play well   cinematography noteworthy including fine views of barcelona and its famed gaudi towers   about ten minutes into this film i started having second thoughts   about half way through this film i started to dislike it   by the time the film ended i not only disliked it i despised it   what this film lacks is a convincing script   the script looks as if only a rough draft was written and shooting began before a finished script was completed   things happen characters personalities change plot twists occur for no real reason other than that script calls for it   the cast is good   for that its worth checking out   this is probably the most irritating show i have ever seen in my entire life   it is indescribably the most annoying and idiotic show i have ever seen   everything about it is just bad   i could not understand what kind of idiot would produce this mess in the first place not to mention several season   the script is bad very bad \\x96 it contains both cheesiness and unethical joke that you normally see in rated r or nc17 movie   the casting is also horrible cause all you see is a really really bad actors period   final word this show is a real torture   it is zillion times away from reality   watching washing machine twirling around wouldnt hurt your eyes as much as this show   rating 010 grade z note the show is so bad that even mother of the cast pull her daughter out of the show   20th century foxs road house 1948 is not only quite a silly noir but is an implausible unmitigated bore of a movie   full of unconvincing cardboard characters it is blandly written by edward chodorov who also produced and is surprisingly directed by jean negulesco from whom one would expect a great deal more   from here on the widmark character turns unintentionally comical   his losing his marbles so early in the proceedings is totally implausible and unconvincing   and if that isnt enough of a mess of a movie for you  the picture is also marred with a constant use of studio sets and indoor exteriors   whatever prompted such a documentary is beyond me   very serious spoilers this movie was a huge disappointment   there are so many problems i dont know where to start   the cast was great   steve martin delivers a really funny performance of a middleaged upper class uptight white guy   add betty white and jean smart and you have a great cast  everyone played their parts really well   but the movie makes a lot of serious mistakes   first of all there are enough racial stereotypes and racial jokes to offend everyone   the movie is littered with overt racial slurs towards the black cast members and in return the whites are depicted as morons and boobs   putting the race card aside lets look at the major flaw in the film they destroy latifas character   there is no real plot   i wouldnt see this movie again for free   steamboat willie is an amazingly important film to our cinema history   this second appearance of mickey mouse following the silent plane crazy earlier that year is probably his most famous filmmostly because it was so groundbreaking   while you dont yet hear mickey speak there are tons of sound effects and music throughout the filmsomething we take for granted now but which was a huge crowd pleaser in 1928   however after seeing the short again after about 25 years i was amazed at how timeless the film actually is   its just adorable seeing mickey playing turkey in the straw in a highly imaginative if occasionally cruel way   clever and a real crowdpleaserthis film still ranks among mickeys best films even after 80 wonderful years   the bipolarity of the ruthless thug one minute a ruthless killer the next minute a luvs diaper commercial is completely unconvincing   im terribly disappointed that this film would receive so many awards and accolades especially when there are far more deserving works of film out there   the original body and soul 1947 is a masterpiece   john garfield ann revere lilli plmer william conrad canada leeand filmed by one of the greatest cinematographers to ever grace the screenjames wong howe   i dont think there are any redeeming qualities in this remake   this may be the only bad film he ever made   so badwellits just bad   this movie is a solid example of a bad plot and a very very bad idea all the way   its a shame to see good actors like thomerson and james make a living in a mess like this   i thought it was bad   both films are terrible but to the credit of the 1986 version it was watchable   lets start with all the problems\\x97the acting especially from the lead professor was very very bad   the script is a big flawed mess   the best example of how dumb the writing is when its established that you can turn the zombiestudents back into humans by removing a necklace containing a piece of the meteorite   director paul matthews who also wrotedirected the weak 1995 monster movie grim clearly doesnt know how to pace his films   the movie is terribly boring in places   the lighting is awful   the film looks cheap and bland   one of the most disappointing aspects is the lack of notable gore   this convention never worked well in the past and certainly doesnt work here   the visual effects were awful   the cg opening sequence in space looked like it could have been created on microsoft slideshow for gods sake   the explosion of the gas tanks at the end was just as awful   okay i like to consider myself a fair critic so ill give credit where credits duethe creature effects were actually pretty cool   gotta love those closeups of slimy drooling teeth   to sum the film up breeders is a terrible cheaply made horror movie that should be avoided like the ebola virus   not recommended   he is almost unbearable to watch on screen he has little to no charisma and terrible comedic timing   aside from its terrible lead this film has loads of other debits   i understand that its supposed to be a cheap popcorn comedy but that doesnt mean that it has to completely insult our intelligence and have writing so incredibly hackneyed that it borders on offensive   lewis blacks considerable talent is wasted here too as he is at his most incendiary when he is unrestrained which the pg13 rating certainly wont allow   the films sole bright spot was jonah hill who will look almost unrecognizable to fans of the recent superbad due to the amount of weight he lost in the interim   with the originality and freshness of the first movie now spent this remake had little else to offer   the budget was evidently very limited   this was reflected not only in the cast but also in the belowpar script which borrowed much from the earlier classic   however here there was no decent acting action or location work to balance things up   filmiing was less expansive   it failed to convey the broad sweep of landscapes that were a great part of the original   generally it just lacked imagination   not recommended   is it possible for a movie to get any worse than this   there is no plot here to keep you going in the first place   even when the women finally show up there is no sign of improvement the most expected things happen and by the time the film is over you might be far asleep   beware this is not a trashy cult movie this is trash period   i cant believe theres even a sequel to this   which is precisely why i am giving it such a bad review   being a 90s child i truly enjoyed this show and i can proudly say that i enjoyed it big time and even more than the classical wb cartoons   but tiny toons kept the 90s vibe and delivered one of the most popular funny and underrated cartoons ever created   the memories are murky but i can only say that i enjoyed every single episode and product related to the show   easily none other cartoon made me laugh in a tender way before getting into dark sitcoms oriented for teenagers   the characters were all funny and had the peculiarity of not having a true lead character   every single character was hilarious and deserved to be called a lead   every element of this story was so over the top excessively phony and contrived that it was painful to sit through   her lines seem to have been written by a fifteen year old though they are trying oh so so hard to sound like how a fifteen year old would really um you know well talk   perabo has a nice energy level and is obviously very comfortable in front of a camera   there is simply no excuse for something this poorly done   i saw this movie and i thought this is a stupid movie   what is even more stupid is that who had thought an idea that there should be a volcano in los angeles   to be honest with you this is unbelievable nonsense and very foolish   in conclusion i will not bother with this movie because a volcano in los angeles is nothing but nonsense   the story line is just awful   its just painful   and the accents are absolutely abysmal   theres also enough hypocrisy in this film to make me vomit   dont waste your time watching this rubbish nonresearched film   i believe that pitch black was done well   the characters are interesting and you want to find out more about them the longer the movie goes on and i think people will be surprised by who does and doesnt make it   go watch it   omit watching this   very funny   my rating just 3 out of 10   the characters are interesting and you really care for them   an instant classic with a great soundtrack and a catchy song during the ending credits   dont miss it   this is a masterful piece of filmmaking with many themes simmering and occasionally boiling over in this warts and all study of the poets bohemian selfindulgent wartime years that span the aerial bombardments of london and the outward tranquillity of a welsh coastal retreat  the borderlines between friendship lust and love dedication to art and experience versus practical concerns jealousy rivalry cowardice and egotism versus heroism and selfsacrifice and more   a mature subtle script that suggests and occasionally brings into dramatic focus the underlying tensions is well served by perfect performances apart from the odd inappropriate smiling that keira knightley is prone to though perhaps under direction this time as the other characters themselves often mention it   but above all the exquisite visual composition of each moment with inventive and elegant use of closeup camera angle and lighting including pointillistic faux home movie footage is a wonder and joy to behold   its as continuously beautiful to look at as a bertolucci but the relationships here are more convincing and the narrative more engaging than some of that masters work   the basic premise is wasted since it is sidelined by the inexplicable focus on the documentary crew   regardless the film fails on most levels   avoid at all costs   i saw this film over christmas and what a great film it was   i thought errol flynn was brilliant as custer and has since become my favourite actor   his acting alongside olivia de havilland was brilliant and the ending was fantastic   i had always known that errol flynn was a brilliant actor as he was my dads favourite actor and i grew up watching his films as a child   but it wasnt until i watched this film that i realised how great he actually was   ill give this film 10 out of 10   i know that jim oconnor was very energetic and that nobody could be as much as him but george was well dull   he really didnt seem to want to be hosting his voiceovers were monotonous didnt get involved with the guests   lovely little thriller from hitchcock with lots of nice shenanigans surrounding a murdered spy a kidnapped child a nasty church a foreign plot and some random taxidermists   jimmy stewart is as ever a great hero for hitchcock the story rips along to its cool climax at an embassy function but it lacks the brooding menace of hitchcocks black and white lowbudget original   nevertheless yet another wonderful film from the great masters stable   i have to say that this film was excellently produced and tops the ratings as a typical sci fi film   excellently produced by one of scifis best producers scot vandiver    but it is entertaining nonetheless   its a campy sort of film thats a joy to watch   theres barely a boring moment in the film and there are plenty of humorous parts   the cast is always entertaining as usual   overall a delight   this movie is so mindbendingly awful it couldnt have even been created   the film lacks any real scares or tension  some of the medical terminology used throughout is a bit iffy to say the least  i say that as an insulin dependant diabetic myself   the least said about the acting the better   this movie does an excellent job of revealing the complexity of the task and the incredible challenges facing south africa   i believe every one should see this movie as i think few people outside of south africa understand its past and what is being attempted in the truth and reconciliation process   nothing short of magnificent photographycinematography in this film   the acting is fantastic the stories are seamlessly woven together and the dogs are splendid a must rent view or see   dont be afraid of subtitles its worth a little aversion therapy 1010   excellent performance   there still are good actors around   also great directing and photography   very true to shakespear and a must for all shakespear fans   macbeth jason connery moved me to tears with his final monolog out brief candle outhe gave the sphere of moral decay and dark forces a human face which makes it the more interesting   helen baxendale is a very credible lady macbeth who can be very cheerfull at times and sometimes she just looks like a naughty girl but deadly in her taste for blood and evil   if you love death and decay and shakespears lyrics this is the one   this is a witty and delightful adaptation of the dr seuss book brilliantly animated by upas finest and thoroughly deserving of its academy award   special mention should be made of the superb music score and sound effects which are an integral element in helping to make this such a memorable and enjoyable cartoon   however paul schrader has indeed made a film about mishima that is both superb  complex   also notable is john baileys fine crisp beautifully colored cinematography and the great production design  costumes by eiko ishioka who went on to do the memorable costumes for coppolas dracula for which she received a well deserved oscar   even allowing for poor production values for the time 1971 and the format some kind of miniseries this is baaaaaad   unless youre just out to visually collect all extant films of austens work you can skip this one   if you do watch it however there are small consolations the actresses playing annes sisters each do a wonderful job with their roles   it is not good   speaking of the music it is unbearably predictably and kitchy   then the film just dropped the ball   this is a stunning movie   raw and sublimely moving   it felt like a very gripping intelligent stage play but without the overly theatrical feeling one actually gets from watching people on a stage which plays on everyones terror of a white lie escalating to monstrous consequences   all of the main players are mesmerising   tom wilkinson broke my heart at the end and everyone elses judging by the amount of fumbling for hankies and hands going up to faces among males and females alike   julian fellowes has triumphed again   hes a national treasure   go and see it   this is an excellent film   the aerial scenes were welldone   it was also the right balance of war and love   the film gives meaning to the phrase never in the history of human conflict has so much been owed by so many to so few   kris kristoffersen is good in this movie and really makes a difference   a good film by a great director   this is definitely one of the better documentaries i have seen looking at family relationships and marriage   there are many continuity errors one other user commented on different cars in the garage joes glassesthe one that got to me the most was the fact joes facial hair configuration seemed to change from scene to scene   this is just a great movie   10 out of 10 stars   i cant see how this movie can be an inspiration to anyone to come out or overcome fear and rejection   its so bad its actually worth seeing just for that reason   punishment park is a brilliant piece of cinema   shot in the southern california desert using his patent faux documentary style watkins creates a film like no other   this is one of peter watkins most accessible films   i advise you to look out for it   you wont regret it   highly recommended a   well just if you keep thinking how bad it is   its a mediocre miserable hollow laughable and predictable piece of garbage   its a case of so bad it is laughable    very bad performance plays angela bennett a computer expert who is at home all the time   it is a film about nothing just a pretext to show ridiculous action scenes   how awful she is   but she is still a bad actress repeating her robotic face moves in each of her pictures   the results well are a shame   delete this film from your mind   one of the worst shows of all time   the show would begin with smart ass ed comments to each other that would be totally off the wall and uncalled for   the fat computer geek was unbelievable the bible thumper the badass girl who are these actors   never heard of any of them except cole who was totally unbelievable in the part   every time he opened his mouth you expect to hear you see kids pulling the plug was a mercy killing for this horrible show   the stories were as unbelievable as the actors   lame would be the best way to describe it   stanwyck and morgan are perfectly cast in what is in many ways a modern equivalent of dickens christmas carol in its sensibility   the success of the film depends on the casting of sydney greenstreet as the alexander yardley character   the attractive set used throughout most of the film is an eyepleasing gem   im big fan of rpg games too but this movie its a disgrace to any selfrespecting rpger there is   the lines the cuts the audio everything is wrong   you can find better movies at youtube   top line dont waste your time and money on this one its as bad as it comes   a lassie movie which should have been put to sleep forever   thats how id describe this painfully dreary timewaster of a film   so mediocre in every aspect that it just becomes a dull uninteresting mess this is one of the most forgettable movies ive seen   it isnt even an achievement as a sobaditsgood or sobaditsmemorable movie   its an empty hollow shell of a movie   seriously its not worth wasting your or your kids time on   avoid avoid avoid   it will drive you barking mad   the transfers are very good   very nice and relaxing late night viewing   the movie is full of wonderful dancing hence the title    some great music and terrific scenery   it handles some tough issues with dignity and grace and of course has shocking spoiler here    a happy wonderful feel good ending   the point is the journey a journey that touches every member of the family   its one of the movies i need to see whenever it comes on tvnever mind the fact that i already have it memorized   nothing new there   that was done in the second movie   the movie has almost no action scenes in it and very little comedy   the plot has more holes than a pair of fishnet stockings and the direction and editing is astonishingly ham fisted   what on earth is irons doing in this film   i just saw this film and i recommend it   it has a very good plot it holds your complete attention the acting is superb tom wilkinson was fantastic and emily watson was also very good   a very good film indeed about great and unconditional love   tom wilkinsons character is a man who is not prepared for the ordeal that is about to begin but he takes the matter in hand as the story progresses and this great actor gives a performance that makes you feel the characters anguish and suffering   emily watsons character is very strong and she has only to give a quick glance and you understand everything   despite the pans of reviewers i liked this movie   in fact i liked it better than interview with a vampire and i liked this lestat stuart townsend better than cruises attempt   aailiyah was pretty good as akasha in places compelling her first entrance and mini dance scene   im a big fan of this series mostly due to anne rices style sensitivities and treatments   i guess i liked the details of his dysfunctionhe was believable   the football scenes at the end were perplexing   but i thought his acting was skilled   meredith m was better than all right   a very charming film with wonderful sentiment and heart   it is rare when a filmmaker takes the time to tell a worthy moral tale with care and love that doesnt fall into the trap of being overly syrupy or over indulgent   nine out of ten for a truly lovely film   this early film from future goremeister lucio fulci is a very good addition to the giallo subgenre   this is one of the best italian thrillers of the early 70s   a standout scene   this scene is very strong and unpleasant   technically the film is well made with impressive camerawork solid acting and effective music from riz ortolani \\x96 particularly good is a recurring unaccompanied female vocal that sounds like its coming from a distant hill   its still wild stuff though and is highly recommended to fans of giallo cinema   the movie was very interesting from beginning to the end   i liked the way dustin hoffmans character was ready to do just about everything to stay with his son   this movie is also revealing   personally i think it shows that people should learn to find a compromise them self without involving other people into issue   and it was boring   i am so tired of clichés that is just lazy writing and here they come in thick and fast   ps the only scene in the movie that was cool is when the central character finds her room blown up   its a fresh subtle and rather sublime effect   an italian reviewer called this a small great film and thats right   all the actors give a wonderful performance especially jennifer rubin as jamie harris who changes from the nervous starlet in the beginning through the strange events she is part of to the cool star   you learn a lot about the real inside emotions of people in this movie and a lot about the movie business itself   the movie in movie situations in the beginning and through the game that is played with her by the acting coach are fascinating   also the music by mark snow is possibly the best score ive ever heard   you wont forget this movie   why was this film made   the film has an ultracheap look to it   the result is a film that just dont look right   none of them are engaging or exciting   the plot is nonsense that doesnt interest in the slightest way or have any uniqueness to it   the foreigner is not worth one second of your time   i saw it as a child on tv back in 1973 when it was the stranger and i loved it   but the duet between the astronaut and his doctor at the beginning of the movie is a perfect exchange if one considers that this movie was made well into the cold war and the astronauts biggest fear is that he has crashed in the ussr   this movie is so awesome   i loved it it was really scary   i love the scream movies and all horror movies and this one ranks way up there   if you want a real scare rent this one   1010   this is an extraordinary film   as a courtroom drama its compelling as an indictment on the american justice system its frightening   this film highlights the fundamental flaws of the legal process that its not about discovering guilt or innocence but rather is about who presents better in court   the film is well paced understated and one of the best courtroom documentaries ive seen   this mostly routine factbased tv drama gets a boost from the fine performance by cole   predictable but not a bad watch   it was clear that she had the range and ability to pull off this part   she carries the movie well   constantine gives everything the right intensity and seems to have a good understanding of the underlying psychological motivations   it is wonderful and inspiring to watch and i hope that it gets released again on to video or dvd   how this piece of trash was ever released is beyond me the acting the story the characters the supposedly special effects etcits all wrong   in fact this stinker smells like a directtovideo release   avoid at all costs   star trek v the final frontier is the worst in the series   the acting from all involved and that includes those like shatner and nimoy is bad and washed out and making them seem as old as they look in real life the special effects are tacky like when spock has to rescue kirk on a jet pack when he falls down from a mountain   the attempts at humor were pitiful and story is so awful it dosent bear thinking about which basically involves a vulcan stealing the enterprise to find god seriously i just didnt care about any of this film and oh not to mention uhura does a belly dance to distract male guards   the only place good for this film is in the garbage   the worst one of the series   editing the editing of this film was phenomenal in my opinion   when a song could explain the emotions of the subjects better such as when jay adams unfortunate life was a subject of talk the song old man by neil young was played which evokes many emotions   cinematography the film was shot in an interesting way   of course the footage from the 70s was grainy but that only enhanced the film   this film offers many delights and surprises   when achille and philippa beautifully sing a duet from don giovanni that perfectly describes their situation in the movie you appreciate the subtle layers of this excellent film   the story unfolds in 18th century jutland and the use of period music played on period instruments is just one more fine touch   you share general loewenhielms exquisite joy in his partaking of the cailles en sarcophage even though you are just watching a movie  but you do wish for just a small sample to savor   but this understated film leaves a lasting impression   the warmth it generates is in contrast to its austere backdrop   you will leave the theater wanting to go out and dance under the stars   the acting as youd expect from this cast is top notch   the characters are fleshed out surprisingly well particularly grimes and blake and all the actors deliver their sharply scripted lines with just the right amount of deadpan tongue in cheek to make the dialogue both hilarious and realistic   angus scrimm also turns in a good performance in a somewhat brief but memorable role as the gently menacing violinplaying anatomist doctor quinn   conclusion  i loved it   its a long time since i was so entertained by a movie   i struggle to find anything bad to say about it   mark my words this is one of those cult films like evil dead 2 or phantasm that people will still be discovering and falling in love with 20 30 40 years down the line   its pretty surprising that this wonderful film was made in 1949 as hollywood generally had its collective heads in the sand concerning black and white issues at that time   the film deserves strong kudos for taking this stand for having exceptional acting from its mostly lesserknown cast and for the superintelligent script that doesnt insult the audience or take the easy way out when it comes to white racism   plus with the movies rather modest budget and fast running time it does an amazing job   juano hernandez an exceptional actor who played supporting roles in many films of the era is a proud black man who is accused of murdering a white man in the south   trumbull on i love lucy   see it with your kids if you have a chanceit will open up some amazing dialog about how far race relations have come in the last 50 years   see both films if you can   it was that year however that reminded us that huston was still at the top of his game as evinced by his faithful adaptation of james joyces acclaimed novella the dead   feelings thoughtsgabriels discomfort during the danceall these intangibles leap to life and come within the viewers grasp in hustons portrayal   very disappointed and wondered how it could be in the oscar shortlist   its very slow   lot of holes in the plot theres nothing about how he became the emperor nothing about where he spend 20 years between his childhood and mature age    dont waste your time   end of days is one of the worst bigbudget action movies ive ever seen   he surely doesnt know how to make a coherent action movie from the screenwriter of air force one who was only obliged to write the script just for a big sum of money   this was one of the worst films i have ever seen   im still trying to get over how bad it was   this movie is possibly one of the most creative works of horror ever   it has everything you could want suspense drama comedy confusing subplots native americans brain eating if youre looking for the beall endall of brainsucking movies look no further    with great sound effects and impressive special effects i cant recommend this movie enough  \\t1\\ncall me a nut but i think this is one of the best movies ever  \\t1\\ngreat character actors telly savalas and peter boyle  \\t1\\n1 hour 54 minutes of sheer tedium melodrama and horrible acting a mess of a script and a sinking feeling of good lord what were they thinking  \\t0\\nlots of holes in the script  \\t0\\nits like a bad two hour tv movie  \\t0\\nnow imagine that every single one of those decisions was made wrong  \\t0\\nthe dialogue is atrocious  \\t0\\nthe acting is beyond abysmal  \\t0\\neverything stinks  \\t0\\ntrouble is the writing and directing make it impossible to establish those things that make a movie watchable like character story theme and so on  \\t0\\nworse theres an incredibly weak subplot thrown in that follows a little band of latterday mansonites as they go after a reporter whos working on a story on the anniversary of the killings  \\t0\\nits dumb and pointless and a complete waste of time  \\t0\\nin short dont bother with this movie  \\t0\\ni wont spoil it but the ending in pretty amazing  \\t1\\nthe best scene in the movie is at the end but i wont spoil it  \\t1\\nif there was ever an indication of a writer and a directors ability to meld two highly volatile temperaments into a seamless union of creativity then this is it  \\t1\\nthe result is a powerhouse achievement made more timely now perhaps because of our cultures disturbing fascination with celebrity and its distorted interpretations of fame  \\t1\\na film not easily forgotten  \\t1\\nbut kevin spacey is an excellent verbal tsunami as buddy ackerman \\x96 and totally believable because he is a great actor  \\t1\\nthe scripting of the subtle comedy is unmatched by any movie in recent years  \\t1\\nthe characters are interesting even if a bit predictable  \\t1\\nhighly recommended for all ages although the younger set will probably not appreciate some of the more subtle references they will certainly appreciate one galley scene in particular  \\t1\\ngreat movie  \\t1\\nalso the story and acting were weak  \\t0\\nat around 4 pm i bought it at around 8pm i started to watch at around 815pm i fast forwarded the remaining film to see if there was anything left watchable for a human being with a brain but there wasnt  \\t0\\neither way it sucks  \\t0\\nthe script is horrendously stupid  \\t0\\nthe story starts too fast with absolutely no suspense or buildup in the slightest  \\t0\\neverything captain howdy says is either laughable or just plain stupid  \\t0\\nwhat the hell kind of crap is that  \\t0\\nthen theres the plot holes  \\t0\\nyou could drive a semi truck into these holes  \\t0\\nlinda cardellini is the only thing good in this film  \\t1\\nshes poised and amazing  \\t1\\ndee snider just plain sucks  \\t0\\nhe cant act one of the least scary villains i have ever seen he cant write did he write this damn movie in his sleep  \\t0\\ni was bored throughout the whole damn thing  \\t0\\nthe acting sucks the music sucks the script sucks the pacing sucks the special fx suck the directing sucks basically this movie sucks  \\t0\\nthis film tries to be a serious and sophisticated thrillerhorror flick and it fails miserably  \\t0\\nthis is probably one of the least effective and utterly unoriginal films i have ever seen in my entire life  \\t0\\na piece of cinematic garbage captured on celluloid  \\t0\\navoid at any and all costs  \\t0\\nat any rate this film stinks its not funny and fulci should have stayed with giallo and supernatural zombie movies  \\t0\\navoid this film at all costs  \\t0\\ni dont know what happened in season five what a mess  \\t0\\nthe only consistent thread holding the series together were the amazing performances of leni parker and anita laselva as the two taelons in quiet idealogical conflict  \\t0\\nnow this is a movie i really dislike  \\t0\\nits one of the most boring horror movies from the 90s mainly because it starts slow and centers in a boring atmosphere  \\t0\\nthe puppets look really cheesy  not in a good way like in the puppet master 80s flicks  \\t0\\nthe story is lame not interesting and never really explains the sinister origins of the puppets  \\t0\\nthere arent death scenes like in previous movies and the fx are terrible  \\t0\\ni felt asleep the first time i watched it so i can recommend it for insomniacs  \\t0\\nthe fact is this film is a wonderful heartwarming tale about two people chasing their dreams  \\t1\\nthe best part about nurse betty is its unpredictability   director neil labute uses brutal violence to seperate dreams from reality and along with the touching drama and hilarious comedy you can never tell what is going to happen next   otherwise dont even waste your time on this   this one just fails to create any real suspense   as for the killer dont expect anything original or even remotely frightening   there is however some pretty good acting at least for this type of film   im so sorry but i really cant recommend it to anyone   one of the most boringpointless movies i have ever seen   the secondary plot line is incomprehensible and its relation to the primary plot line is mystifying   hated it   this is one of the worst sandra bullock movie since speed 2 but not quite that bad   i dont understand how this garbage got on the shelves of the movie store its not even a real movie   i highly doubt that anyone could ever like this trash   this is not moviemaking   the acting is like watching wooden puppets moving around and reading from a book thats how bad it is   so i am here to warn youdo not rent this movie it is the dumbest thing you have never seen   i saw this short film on hbo the other day and absolutely loved it   i didnt realize how wonderful the short really is until the last two scenes   excellent short film   hopefully the director james cox can turn the short into a feature length film with the same cast or win us over with a whole new film   i agree with jessica this movie is pretty bad   characters are onedimensional even the good guys and especially the bad guys   the story line is totally predictable   not much dialogue not much music the whole film was shot as elaborately and aesthetically like a sculpture   ive seen soap operas more intelligent than this movie   bad characters bad story and bad acting   really awful   not easy to watch   funny clever hip  just like prays previous film hype   it was a long time that i didnt see a so charismatic actor on screen   paolo sorrentino has written a wonderful story about loneliness and tony has built one of the most unforgettable characters seen in movies in recent years   the movie is not completely perfect but titta di girolamo will stay with you for a long time after the vision of the movie   i rate this movie 910   i do not know if this was emilio estevezs directorial debut but the pacing the interplay and development of the characters as well as some clever camera work surrounding the character estevez plays all suggest a natural eye   the interplay between martin and emilio contains the same wonderful chemistry we saw in wall street with martin and charlie   kathy bates is wonderful in her characters subtle desperation and escapism a variation on her character in at play in the fields of the lord   for readers who have already seen one of miyazakis films he is still in top form and made another worthwhile experience   it never condescends all the characters have good genuine hearts and believable problems   the two main characters may be two of the most believable children i ever saw put on screen   they are so easy to love but even more easy to identify with   this movie is greatespecially if you enjoy visual arts   the scenery that the two daughters paint and photograph are beautiful   the story is also both funny and poignant at times   people who like european films and art movies will like this movie   this is truly an art movieit actually has a lot of art in it   go rent it   however after finally watching this film i realized that not only had i had a closed mind to the brilliance it depicts i also found myself watching it over and over again   its the one movie that never ceases to interest me simply because it keeps me alert as i try to attempt to decipher its meanings   brilliance indeed   but if you liked movies like the matrix and better yet their sequels i think youll appreciate the thought provoking mindblowing experience this film will give you   think of the film being like a dream   simply beautiful   both rickman and stowe play their roles to the hilt in this tale of a childrens book writer who maybe has written a subversive tract   its a gloriously fun fast paced and fairly accurate portrayal of the night of a raver   it presents a idyllic yet serious portrayal of the ups and downs of the characters lives   just whatever you do avoid groove as its the antithesis of all that is good about human traffic   its too bad that everyone else involved didnt share crowes level of dedication to quality for if they did wed have a far better film on our hands than this subpar mess   the movie seemed a little slow at first   but it picked up speed and got right to the point   it showed exactly how the government and the scientist argued for humanity and the reasons of the gadget   i enjoyed it   i have recommended it to friends   i was particularly pleased with the acting ability of dwight schultz   both actors truly understand and become their particular character delivering a convincing sincere performance   their onscreen chemistry critical to the entire film is genuine   the films dialogue is natural real to life   the writer gorman bechard undoubtedly did his homework because all references are industry and characterage appropriate   the incredible soundtrack truly captures the essence of the film   each track commands sentiment actually contributing to the scenes and characters   definitely worth seeing\\x85 its the sort of thought provoking film that forces you to question your own threshold of loneliness   hayao miyazakis latest and eighth film for studio ghibili gake no ue no ponyo ponyo on the cliff by the sea is a wonderfully fun and imaginative look at childhood   at a time when it seems that film animation has been dominated by disneypixars cgi masterpieces it is both refreshing and comforting to know that miyazaki is still relying on traditional handdrawn animation to tell his charming and enchanting stories   enough can not be said of the remarkable animation in this film   the art style has the appearance of crayonpencil drawings and is wonderfully colorful and fanciful   if you act in such a film you should be glad that youre gonna drift away from earth as far as possible   this one wants to surf on the small wave of space movies in 1998 deep impact and armageddon and this one fails everywhere   if you havent choked in your own vomit by the end by all the cheap drama and worthless dialogue youve must have bored yourself to death with this waste of time   still it makes up for all of this with a super ending that depicts a great sea vessel being taken out by the mighty frost   just consider the excellent story solid acting and look of the film as added bonuses   instead we got a bore fest about a whiny spoiled brat babysitting   then i watched it again two sundays ago march 20th 2005 and i began to really enjoy it and this time i taped the entire thing   it is a very well acted and done tv movie   judith light is one of my favorite actresses and i think she does a superb job in this film   i keep watching it over and over   its a sad movie but very good   if you have not seen this movie i definitely recommend it   she is as lovely as usual this cutie   still its quite interesting and entertaining to follow    recommend with confidence   this movie is wellbalanced with comedy and drama and i thoroughly enjoyed myself   it was a riot to see hugo weaving play a sexobsessed gay real estate salesman who uses his clients houses for his trysts with the flaming darren tom hollander    anyway the plot flowed smoothly and the malebonding scenes were a hoot   the opening sequence of this gem is a classic and the cat n mouse games that follow are a delight to watch   fans of the genre will be in heaven   lange had become a great actress   it looked like a wonderful story   i never walked out of a movie faster   i just got bored watching jessice lange take her clothes off   unfortunately any virtue in this films production work was lost on a regrettable script   in a word it is embarrassing   exceptionally bad   all in all its an insult to ones intelligence and a huge waste of money  '"
      ]
     },
     "execution_count": 423,
     "metadata": {},
     "output_type": "execute_result"
    }
   ],
   "source": [
    "words = \" \".join(text_raw_1.message.values)\n",
    "words"
   ]
  },
  {
   "cell_type": "code",
   "execution_count": 424,
   "metadata": {},
   "outputs": [],
   "source": [
    "c=Counter(words.split(\" \"))"
   ]
  },
  {
   "cell_type": "code",
   "execution_count": 425,
   "metadata": {},
   "outputs": [],
   "source": [
    "feature_list = [item[0] for item in c.items() if item[1] > 3]"
   ]
  },
  {
   "cell_type": "code",
   "execution_count": 426,
   "metadata": {},
   "outputs": [],
   "source": [
    "for key in feature_list:\n",
    "    text_raw_1[str(key)] = text_raw_1.message.str.contains(\n",
    "        ' ' + str(key),\n",
    "        case=False\n",
    "    )    "
   ]
  },
  {
   "cell_type": "code",
   "execution_count": 427,
   "metadata": {},
   "outputs": [],
   "source": [
    "#text_raw_1.head()"
   ]
  },
  {
   "cell_type": "markdown",
   "metadata": {},
   "source": [
    "### Using a list of positive and negative words"
   ]
  },
  {
   "cell_type": "code",
   "execution_count": 428,
   "metadata": {},
   "outputs": [],
   "source": [
    "df_positive = pd.read_csv('positive.csv', header=None)\n",
    "df_positive.columns = ['positive']\n",
    "positive = df_positive['positive'].tolist()"
   ]
  },
  {
   "cell_type": "code",
   "execution_count": 429,
   "metadata": {},
   "outputs": [],
   "source": [
    "df_negative = pd.read_csv('negative2.csv', header=None)\n",
    "df_negative.columns = ['negative']\n",
    "df_negative['negative'] = df_negative.negative.apply(lambda x: x.translate(translator))\n",
    "negative = df_negative['negative'].tolist()"
   ]
  },
  {
   "cell_type": "code",
   "execution_count": 430,
   "metadata": {},
   "outputs": [],
   "source": [
    "# positive = ['good', 'great', 'awesome', 'best', 'cool', 'interesting', '10', 'decent', 'interesting', 'entertaining', 'fan', 'classic', 'love', 'excellent']\n",
    "# negative = ['poor', 'bad', 'average',  'suck', 'lost', 'overpriced', 'bored', 'slow', 'boring' ]"
   ]
  },
  {
   "cell_type": "code",
   "execution_count": 431,
   "metadata": {},
   "outputs": [],
   "source": [
    "# freq_text = text_raw_1.message.apply(lambda x: x.split(\" \"))\n",
    "# freq_text.sort_values(ascending=False)"
   ]
  },
  {
   "cell_type": "code",
   "execution_count": 432,
   "metadata": {},
   "outputs": [],
   "source": [
    "for key in positive:\n",
    "    text_raw_1[str(key)] = text_raw_1.message.str.contains(\n",
    "        ' ' + str(key),\n",
    "        case=False\n",
    "    )"
   ]
  },
  {
   "cell_type": "code",
   "execution_count": 433,
   "metadata": {},
   "outputs": [],
   "source": [
    "for key in negative:\n",
    "    text_raw_1[str(key)] = text_raw_1.message.str.contains(\n",
    "        ' ' + str(key),\n",
    "        case=False\n",
    "    )"
   ]
  },
  {
   "cell_type": "markdown",
   "metadata": {},
   "source": [
    "### Naive Bayes model"
   ]
  },
  {
   "cell_type": "code",
   "execution_count": 53,
   "metadata": {},
   "outputs": [
    {
     "data": {
      "text/plain": [
       "<matplotlib.axes._subplots.AxesSubplot at 0x224254bcda0>"
      ]
     },
     "execution_count": 53,
     "metadata": {},
     "output_type": "execute_result"
    },
    {
     "data": {
      "image/png": "[encoded data removed]",
      "text/plain": [
       "<Figure size 432x288 with 2 Axes>"
      ]
     },
     "metadata": {},
     "output_type": "display_data"
    }
   ],
   "source": [
    "sns.heatmap(text_raw_1.corr())"
   ]
  },
  {
   "cell_type": "code",
   "execution_count": 319,
   "metadata": {},
   "outputs": [],
   "source": [
    "data = text_raw_1[feature_list + positive]\n",
    "target = text_raw_1['sentiment']"
   ]
  },
  {
   "cell_type": "code",
   "execution_count": 320,
   "metadata": {},
   "outputs": [
    {
     "name": "stdout",
     "output_type": "stream",
     "text": [
      "Number of mislabeled points out of a total 748 points : 89\n",
      "Percentage of correctly labeled points: 0.8810160427807486\n"
     ]
    }
   ],
   "source": [
    "# Our data is binary / boolean, so we're importing the Bernoulli classifier.\n",
    "from sklearn.naive_bayes import BernoulliNB\n",
    "\n",
    "# Instantiate our model and store it in a new variable.\n",
    "bnb = BernoulliNB()\n",
    "\n",
    "# Fit our model to the data.\n",
    "bnb.fit(data, target)\n",
    "\n",
    "# Classify, storing the result in a new variable.\n",
    "y_pred = bnb.predict(data)\n",
    "\n",
    "# Display our results.\n",
    "print(\"Number of mislabeled points out of a total {} points : {}\".format(\n",
    "    data.shape[0],\n",
    "    (target != y_pred).sum()\n",
    "))\n",
    "print(\"Percentage of correctly labeled points: {}\".format(\n",
    "    1 - (target != y_pred).sum() / data.shape[0]\n",
    "))"
   ]
  },
  {
   "cell_type": "code",
   "execution_count": 321,
   "metadata": {},
   "outputs": [
    {
     "data": {
      "text/plain": [
       "array([[338,  24],\n",
       "       [ 65, 321]], dtype=int64)"
      ]
     },
     "execution_count": 321,
     "metadata": {},
     "output_type": "execute_result"
    }
   ],
   "source": [
    "from sklearn.metrics import confusion_matrix\n",
    "confusion_matrix(target, y_pred)"
   ]
  },
  {
   "cell_type": "markdown",
   "metadata": {},
   "source": [
    "### Secondary dataset: Yelp"
   ]
  },
  {
   "cell_type": "code",
   "execution_count": 322,
   "metadata": {},
   "outputs": [],
   "source": [
    "df_yelp = pd.read_csv('yelp_labelled.txt', delimiter= '\\t', header=None)\n",
    "df_yelp.columns = ['message', 'sentiment']"
   ]
  },
  {
   "cell_type": "code",
   "execution_count": 323,
   "metadata": {},
   "outputs": [],
   "source": [
    "df_yelp['message'] = df_yelp.message.apply(lambda x: process_text(x))"
   ]
  },
  {
   "cell_type": "code",
   "execution_count": 324,
   "metadata": {},
   "outputs": [],
   "source": [
    "# df_yelp = df_yelp.message.dropna()"
   ]
  },
  {
   "cell_type": "code",
   "execution_count": 325,
   "metadata": {},
   "outputs": [],
   "source": [
    "words_2 = \" \".join(df_yelp.message.values)"
   ]
  },
  {
   "cell_type": "code",
   "execution_count": 326,
   "metadata": {},
   "outputs": [],
   "source": [
    "d=Counter(words_2.split(\" \"))\n",
    "feature_list_yelp = [item[0] for item in d.items() if item[1] > 3]\n",
    "\n",
    "for key in feature_list_yelp:\n",
    "    df_yelp[str(key)] = df_yelp.message.str.contains(\n",
    "        ' ' + str(key),\n",
    "        case=False\n",
    "    )    "
   ]
  },
  {
   "cell_type": "code",
   "execution_count": 327,
   "metadata": {},
   "outputs": [],
   "source": [
    "# for key in positive:\n",
    "#     df_yelp[str(key)] = df_yelp.message.str.contains(\n",
    "#         ' ' + str(key),\n",
    "#         case=False\n",
    "#     )"
   ]
  },
  {
   "cell_type": "code",
   "execution_count": 328,
   "metadata": {},
   "outputs": [],
   "source": [
    "for key in negative:\n",
    "    df_yelp[str(key)] = df_yelp.message.str.contains(\n",
    "        ' ' + str(key),\n",
    "        case=False\n",
    "    )"
   ]
  },
  {
   "cell_type": "code",
   "execution_count": 329,
   "metadata": {},
   "outputs": [],
   "source": [
    "secondary_data = df_yelp[feature_list_yelp + negative]\n",
    "secondary_target = df_yelp['sentiment']"
   ]
  },
  {
   "cell_type": "code",
   "execution_count": 330,
   "metadata": {},
   "outputs": [
    {
     "name": "stdout",
     "output_type": "stream",
     "text": [
      "Number of mislabeled points out of a total 1000 points : 133\n"
     ]
    }
   ],
   "source": [
    "from sklearn.naive_bayes import BernoulliNB\n",
    "bnb = BernoulliNB()\n",
    "\n",
    "bnb.fit(secondary_data, secondary_target)\n",
    "y_pred_2 = bnb.predict(secondary_data)\n",
    "\n",
    "print(\"Number of mislabeled points out of a total {} points : {}\".format(\n",
    "    secondary_data.shape[0],\n",
    "    (secondary_target != y_pred_2).sum()\n",
    "))"
   ]
  },
  {
   "cell_type": "markdown",
   "metadata": {},
   "source": [
    "Interestingly, the features used on the Yelp set were not as effective at reducing mislabeling of points. Also of note, using the positive feature set of words is better for the IMDB dataset. However, the negative feature of words is more useful in reducing mislabeled points in the yelp dataset. "
   ]
  },
  {
   "cell_type": "markdown",
   "metadata": {},
   "source": [
    "## Next assignment: create a model and test new features"
   ]
  },
  {
   "cell_type": "code",
   "execution_count": 331,
   "metadata": {},
   "outputs": [
    {
     "name": "stdout",
     "output_type": "stream",
     "text": [
      "With 20% Holdout: 0.8066666666666666\n",
      "Testing on Sample: 0.8810160427807486\n"
     ]
    }
   ],
   "source": [
    "from sklearn.model_selection import train_test_split\n",
    "# Use train_test_split to create the necessary training and test groups\n",
    "X_train, X_test, y_train, y_test = train_test_split(data, target, test_size=0.2, random_state=20)\n",
    "print('With 20% Holdout: ' + str(bnb.fit(X_train, y_train).score(X_test, y_test)))\n",
    "print('Testing on Sample: ' + str(bnb.fit(data, target).score(data, target)))"
   ]
  },
  {
   "cell_type": "code",
   "execution_count": 332,
   "metadata": {},
   "outputs": [
    {
     "data": {
      "text/plain": [
       "array([0.64473684, 0.72368421, 0.81333333, 0.86666667, 0.78666667,\n",
       "       0.72      , 0.82432432, 0.72972973, 0.63513514, 0.82432432])"
      ]
     },
     "execution_count": 332,
     "metadata": {},
     "output_type": "execute_result"
    }
   ],
   "source": [
    "from sklearn.model_selection import cross_val_score\n",
    "cross_val_score(bnb, data, target, cv=10)"
   ]
  },
  {
   "cell_type": "markdown",
   "metadata": {},
   "source": [
    "Based on the 10-fold cross validation, this model is not very good given the high variance from the cross validation scores above. Similarly, using the 20% holdout method on the train test split shows pretty different results.  "
   ]
  },
  {
   "cell_type": "markdown",
   "metadata": {},
   "source": [
    "### Adding new features to improve model on IMDB text data"
   ]
  },
  {
   "cell_type": "markdown",
   "metadata": {},
   "source": [
    "Features to add:\n",
    "1. character length\n",
    "2. % uppercase letters\n",
    "3. exclamation marks (convert to text string up above)\n",
    "4. question marks ('   ')\n",
    "5. emojis ('   ')"
   ]
  },
  {
   "cell_type": "markdown",
   "metadata": {},
   "source": [
    "### Feature add 1"
   ]
  },
  {
   "cell_type": "code",
   "execution_count": 333,
   "metadata": {},
   "outputs": [],
   "source": [
    "df_feature_1 = text_raw_1\n",
    "df_feature_1['char_len'] = df_feature_1.message.apply(len)"
   ]
  },
  {
   "cell_type": "code",
   "execution_count": 334,
   "metadata": {},
   "outputs": [],
   "source": [
    "data_f1 = df_feature_1[feature_list + positive + ['char_len']]\n",
    "target_f1 = df_feature_1['sentiment']"
   ]
  },
  {
   "cell_type": "code",
   "execution_count": 335,
   "metadata": {},
   "outputs": [],
   "source": [
    "bnb.fit(data_f1, target_f1)\n",
    "y_pred_f1 = bnb.predict(data_f1)"
   ]
  },
  {
   "cell_type": "code",
   "execution_count": 336,
   "metadata": {},
   "outputs": [
    {
     "data": {
      "text/plain": [
       "array([[338,  24],\n",
       "       [ 65, 321]], dtype=int64)"
      ]
     },
     "execution_count": 336,
     "metadata": {},
     "output_type": "execute_result"
    }
   ],
   "source": [
    "confusion_matrix(target_f1, y_pred_f1)"
   ]
  },
  {
   "cell_type": "code",
   "execution_count": 337,
   "metadata": {},
   "outputs": [
    {
     "name": "stdout",
     "output_type": "stream",
     "text": [
      "With 20% Holdout: 0.8066666666666666\n",
      "Testing on Sample: 0.8810160427807486\n"
     ]
    },
    {
     "data": {
      "text/plain": [
       "array([0.64473684, 0.72368421, 0.81333333, 0.86666667, 0.78666667,\n",
       "       0.72      , 0.82432432, 0.72972973, 0.63513514, 0.82432432])"
      ]
     },
     "execution_count": 337,
     "metadata": {},
     "output_type": "execute_result"
    }
   ],
   "source": [
    "X_train, X_test, y_train, y_test = train_test_split(data_f1, target_f1, test_size=0.2, random_state=20)\n",
    "print('With 20% Holdout: ' + str(bnb.fit(X_train, y_train).score(X_test, y_test)))\n",
    "print('Testing on Sample: ' + str(bnb.fit(data_f1, target_f1).score(data_f1, target_f1)))\n",
    "\n",
    "cross_val_score(bnb, data_f1, target_f1, cv=10)"
   ]
  },
  {
   "cell_type": "markdown",
   "metadata": {},
   "source": [
    "### Feature add 2"
   ]
  },
  {
   "cell_type": "code",
   "execution_count": 338,
   "metadata": {},
   "outputs": [],
   "source": [
    "df_feature_2 = text_raw_1"
   ]
  },
  {
   "cell_type": "code",
   "execution_count": 339,
   "metadata": {},
   "outputs": [],
   "source": [
    "data_f2 = df_feature_2[feature_list + positive + ['Uppercase']]\n",
    "target_f2 = df_feature_2['sentiment']"
   ]
  },
  {
   "cell_type": "code",
   "execution_count": 340,
   "metadata": {},
   "outputs": [],
   "source": [
    "bnb.fit(data_f2, target_f2)\n",
    "y_pred_f2 = bnb.predict(data_f2)"
   ]
  },
  {
   "cell_type": "code",
   "execution_count": 341,
   "metadata": {},
   "outputs": [
    {
     "data": {
      "text/plain": [
       "array([[338,  24],\n",
       "       [ 64, 322]], dtype=int64)"
      ]
     },
     "execution_count": 341,
     "metadata": {},
     "output_type": "execute_result"
    }
   ],
   "source": [
    "confusion_matrix(target_f2, y_pred_f2)"
   ]
  },
  {
   "cell_type": "code",
   "execution_count": 342,
   "metadata": {},
   "outputs": [
    {
     "name": "stdout",
     "output_type": "stream",
     "text": [
      "With 20% Holdout: 0.8066666666666666\n",
      "Testing on Sample: 0.8823529411764706\n"
     ]
    },
    {
     "data": {
      "text/plain": [
       "array([0.64473684, 0.72368421, 0.81333333, 0.85333333, 0.78666667,\n",
       "       0.72      , 0.82432432, 0.71621622, 0.63513514, 0.82432432])"
      ]
     },
     "execution_count": 342,
     "metadata": {},
     "output_type": "execute_result"
    }
   ],
   "source": [
    "X_train, X_test, y_train, y_test = train_test_split(data_f2, target_f2, test_size=0.2, random_state=20)\n",
    "print('With 20% Holdout: ' + str(bnb.fit(X_train, y_train).score(X_test, y_test)))\n",
    "print('Testing on Sample: ' + str(bnb.fit(data_f2, target_f2).score(data_f2, target_f2)))\n",
    "\n",
    "cross_val_score(bnb, data_f2, target_f2, cv=10)"
   ]
  },
  {
   "cell_type": "markdown",
   "metadata": {},
   "source": [
    "### Feature add 3"
   ]
  },
  {
   "cell_type": "code",
   "execution_count": 343,
   "metadata": {},
   "outputs": [],
   "source": [
    "df_feature_3 = text_raw_1\n",
    "data_f3 = df_feature_3[feature_list + positive + ['exclamation_mark']]\n",
    "target_f3 = df_feature_3['sentiment']"
   ]
  },
  {
   "cell_type": "code",
   "execution_count": 344,
   "metadata": {},
   "outputs": [],
   "source": [
    "bnb.fit(data_f3, target_f3)\n",
    "y_pred_f3 = bnb.predict(data_f3)"
   ]
  },
  {
   "cell_type": "code",
   "execution_count": 345,
   "metadata": {},
   "outputs": [
    {
     "data": {
      "text/plain": [
       "array([[338,  24],\n",
       "       [ 65, 321]], dtype=int64)"
      ]
     },
     "execution_count": 345,
     "metadata": {},
     "output_type": "execute_result"
    }
   ],
   "source": [
    "confusion_matrix(target_f3, y_pred_f3)"
   ]
  },
  {
   "cell_type": "code",
   "execution_count": 346,
   "metadata": {},
   "outputs": [
    {
     "name": "stdout",
     "output_type": "stream",
     "text": [
      "With 20% Holdout: 0.8066666666666666\n",
      "Testing on Sample: 0.8810160427807486\n"
     ]
    },
    {
     "data": {
      "text/plain": [
       "array([0.64473684, 0.72368421, 0.81333333, 0.86666667, 0.78666667,\n",
       "       0.72      , 0.82432432, 0.71621622, 0.63513514, 0.82432432])"
      ]
     },
     "execution_count": 346,
     "metadata": {},
     "output_type": "execute_result"
    }
   ],
   "source": [
    "X_train, X_test, y_train, y_test = train_test_split(data_f3, target_f3, test_size=0.2, random_state=20)\n",
    "print('With 20% Holdout: ' + str(bnb.fit(X_train, y_train).score(X_test, y_test)))\n",
    "print('Testing on Sample: ' + str(bnb.fit(data_f3, target_f3).score(data_f3, target_f3)))\n",
    "\n",
    "cross_val_score(bnb, data_f3, target_f3, cv=10)"
   ]
  },
  {
   "cell_type": "markdown",
   "metadata": {},
   "source": [
    "### Feature add 4"
   ]
  },
  {
   "cell_type": "code",
   "execution_count": 400,
   "metadata": {},
   "outputs": [],
   "source": [
    "df_feature_4 = text_raw_1\n",
    "data_f4 = df_feature_4[feature_list + positive + ['question_mark']]\n",
    "target_f4 = df_feature_4['sentiment']"
   ]
  },
  {
   "cell_type": "code",
   "execution_count": 401,
   "metadata": {},
   "outputs": [],
   "source": [
    "bnb.fit(data_f4, target_f4)\n",
    "y_pred_f4 = bnb.predict(data_f4)"
   ]
  },
  {
   "cell_type": "code",
   "execution_count": 402,
   "metadata": {},
   "outputs": [
    {
     "data": {
      "text/plain": [
       "array([[338,  24],\n",
       "       [ 64, 322]], dtype=int64)"
      ]
     },
     "execution_count": 402,
     "metadata": {},
     "output_type": "execute_result"
    }
   ],
   "source": [
    "confusion_matrix(target_f4, y_pred_f4)"
   ]
  },
  {
   "cell_type": "code",
   "execution_count": 403,
   "metadata": {},
   "outputs": [
    {
     "name": "stdout",
     "output_type": "stream",
     "text": [
      "With 20% Holdout: 0.8066666666666666\n",
      "Testing on Sample: 0.8823529411764706\n"
     ]
    },
    {
     "data": {
      "text/plain": [
       "array([0.63157895, 0.72368421, 0.81333333, 0.86666667, 0.78666667,\n",
       "       0.72      , 0.82432432, 0.71621622, 0.63513514, 0.82432432])"
      ]
     },
     "execution_count": 403,
     "metadata": {},
     "output_type": "execute_result"
    }
   ],
   "source": [
    "X_train, X_test, y_train, y_test = train_test_split(data_f4, target_f4, test_size=0.2, random_state=20)\n",
    "print('With 20% Holdout: ' + str(bnb.fit(X_train, y_train).score(X_test, y_test)))\n",
    "print('Testing on Sample: ' + str(bnb.fit(data_f4, target_f4).score(data_f4, target_f4)))\n",
    "\n",
    "cross_val_score(bnb, data_f4, target_f4, cv=10)"
   ]
  },
  {
   "cell_type": "markdown",
   "metadata": {},
   "source": [
    "### Feature add 5"
   ]
  },
  {
   "cell_type": "code",
   "execution_count": 434,
   "metadata": {},
   "outputs": [],
   "source": [
    "df_feature_5 = text_raw_1\n",
    "data_f5 = df_feature_5[feature_list + positive + ['emoji']]\n",
    "target_f5 = df_feature_5['sentiment']"
   ]
  },
  {
   "cell_type": "code",
   "execution_count": 435,
   "metadata": {},
   "outputs": [],
   "source": [
    "bnb.fit(data_f5, target_f5)\n",
    "y_pred_f5 = bnb.predict(data_f5)"
   ]
  },
  {
   "cell_type": "code",
   "execution_count": 436,
   "metadata": {},
   "outputs": [
    {
     "data": {
      "text/plain": [
       "array([[338,  24],\n",
       "       [ 64, 322]], dtype=int64)"
      ]
     },
     "execution_count": 436,
     "metadata": {},
     "output_type": "execute_result"
    }
   ],
   "source": [
    "confusion_matrix(target_f5, y_pred_f5)"
   ]
  },
  {
   "cell_type": "code",
   "execution_count": 437,
   "metadata": {},
   "outputs": [
    {
     "name": "stdout",
     "output_type": "stream",
     "text": [
      "With 20% Holdout: 0.8066666666666666\n",
      "Testing on Sample: 0.8823529411764706\n"
     ]
    },
    {
     "data": {
      "text/plain": [
       "array([0.64473684, 0.72368421, 0.81333333, 0.86666667, 0.78666667,\n",
       "       0.72      , 0.82432432, 0.72972973, 0.63513514, 0.82432432])"
      ]
     },
     "execution_count": 437,
     "metadata": {},
     "output_type": "execute_result"
    }
   ],
   "source": [
    "X_train, X_test, y_train, y_test = train_test_split(data_f5, target_f5, test_size=0.2, random_state=20)\n",
    "print('With 20% Holdout: ' + str(bnb.fit(X_train, y_train).score(X_test, y_test)))\n",
    "print('Testing on Sample: ' + str(bnb.fit(data_f5, target_f5).score(data_f5, target_f5)))\n",
    "\n",
    "cross_val_score(bnb, data_f5, target_f5, cv=10)"
   ]
  },
  {
   "cell_type": "markdown",
   "metadata": {},
   "source": [
    "### Combining multiple features that worked individually"
   ]
  },
  {
   "cell_type": "code",
   "execution_count": 446,
   "metadata": {},
   "outputs": [],
   "source": [
    "df_feat_comb = text_raw_1\n",
    "data_fcomb = df_feat_comb[feature_list + positive + ['emoji'] + ['question_mark'] + ['Uppercase']]\n",
    "target_fcomb = df_feat_comb['sentiment']"
   ]
  },
  {
   "cell_type": "code",
   "execution_count": 447,
   "metadata": {},
   "outputs": [],
   "source": [
    "bnb.fit(data_fcomb, target_fcomb)\n",
    "y_pred_fcomb = bnb.predict(data_fcomb)"
   ]
  },
  {
   "cell_type": "code",
   "execution_count": 448,
   "metadata": {},
   "outputs": [
    {
     "data": {
      "text/plain": [
       "array([[338,  24],\n",
       "       [ 63, 323]], dtype=int64)"
      ]
     },
     "execution_count": 448,
     "metadata": {},
     "output_type": "execute_result"
    }
   ],
   "source": [
    "confusion_matrix(target_fcomb, y_pred_fcomb)"
   ]
  },
  {
   "cell_type": "code",
   "execution_count": 449,
   "metadata": {},
   "outputs": [
    {
     "name": "stdout",
     "output_type": "stream",
     "text": [
      "With 20% Holdout: 0.8066666666666666\n",
      "Testing on Sample: 0.8836898395721925\n"
     ]
    },
    {
     "data": {
      "text/plain": [
       "array([0.63157895, 0.72368421, 0.81333333, 0.85333333, 0.78666667,\n",
       "       0.72      , 0.82432432, 0.71621622, 0.63513514, 0.81081081])"
      ]
     },
     "execution_count": 449,
     "metadata": {},
     "output_type": "execute_result"
    }
   ],
   "source": [
    "X_train, X_test, y_train, y_test = train_test_split(data_fcomb, target_fcomb, test_size=0.2, random_state=20)\n",
    "print('With 20% Holdout: ' + str(bnb.fit(X_train, y_train).score(X_test, y_test)))\n",
    "print('Testing on Sample: ' + str(bnb.fit(data_fcomb, target_fcomb).score(data_fcomb, target_fcomb)))\n",
    "\n",
    "cross_val_score(bnb, data_fcomb, target_fcomb, cv=10)"
   ]
  }
 ],
 "metadata": {
  "kernelspec": {
   "display_name": "Python 3",
   "language": "python",
   "name": "python3"
  },
  "language_info": {
   "codemirror_mode": {
    "name": "ipython",
    "version": 3
   },
   "file_extension": ".py",
   "mimetype": "text/x-python",
   "name": "python",
   "nbconvert_exporter": "python",
   "pygments_lexer": "ipython3",
   "version": "3.7.0"
  }
 },
 "nbformat": 4,
 "nbformat_minor": 2
}
