{
 "cells": [
  {
   "cell_type": "code",
   "execution_count": 44,
   "metadata": {},
   "outputs": [],
   "source": [
    "import pandas as pd\n",
    "import numpy as np\n",
    "import statistics as st"
   ]
  },
  {
   "cell_type": "markdown",
   "metadata": {},
   "source": [
    "Greg was 14, Marcia was 12, Peter was 11, Jan was 10, Bobby was 8, and Cindy was 6 when they started playing the Brady kids on The Brady Bunch. Cousin Oliver was 8 years old when he joined the show. What are the mean, median, and mode of the kids' ages when they first appeared on the show? What are the variance, standard deviation, and standard error?\n"
   ]
  },
  {
   "cell_type": "code",
   "execution_count": 45,
   "metadata": {},
   "outputs": [
    {
     "name": "stdout",
     "output_type": "stream",
     "text": [
      "mean:  9.857142857142858\n",
      "median:  10.0\n",
      "mode:  8\n"
     ]
    }
   ],
   "source": [
    "df['brady'] = [14, 12, 11, 10, 8, 6, 8]\n",
    "# mean,median, mode of kids\n",
    "br_mean = np.mean(df['brady'])\n",
    "br_med = np.median(df['brady'])\n",
    "br_mode = st.mode(df['brady'])\n",
    "\n",
    "print('mean: ',br_mean)\n",
    "print('median: ',br_med)\n",
    "print('mode: ',br_mode)"
   ]
  },
  {
   "cell_type": "code",
   "execution_count": 46,
   "metadata": {},
   "outputs": [
    {
     "name": "stdout",
     "output_type": "stream",
     "text": [
      "variance:  6.408163265306122\n",
      "st.dev.:  2.734262327610589\n",
      "st.error:  1.0334540197243192\n"
     ]
    }
   ],
   "source": [
    "# variance of kids\n",
    "br_var = np.var(df['brady'])\n",
    "# st.dev. of kids\n",
    "br_std = np.std(df['brady'], ddof=1)\n",
    "# standard error of kids\n",
    "br_se = np.std(df['brady'], ddof=1) / np.sqrt(len(df['brady']))\n",
    "\n",
    "print('variance: ',br_var)\n",
    "print('st.dev.: ',br_std)\n",
    "print('st.error: ',br_se)"
   ]
  },
  {
   "cell_type": "markdown",
   "metadata": {},
   "source": [
    "I would pick the mean for central tendency; the mean and median are close to each other. I would use standard deviation for the variance figure as objectively looking at the data most of the values are within 1 standard deviation, between ~13 and ~7, of the median. Only 2 values exist outside of the dataset and would be classified as outliers and maybe removed from further analysis."
   ]
  },
  {
   "cell_type": "code",
   "execution_count": 49,
   "metadata": {},
   "outputs": [
    {
     "name": "stdout",
     "output_type": "stream",
     "text": [
      "mean:  10.0\n",
      "median:  10.0\n",
      "variance:  5.428571428571429\n",
      "std. deviation : 2.32992949004287\n",
      "standard error : 0.951189731211342\n",
      "Mode is 8\n"
     ]
    }
   ],
   "source": [
    "brady_2 = [14, 12, 11, 10, 8, 7, 8]\n",
    "\n",
    "def brady_stats(brady_2):\n",
    "    print(\"mean: \",np.mean(brady_2))\n",
    "    print(\"median: \",np.median(brady_2))\n",
    "    #print(\"mode: \", st.mode(brady_2))\n",
    "    print(\"variance: \",np.var(brady_2))\n",
    "    print(\"std. deviation :\",np.std(brady_2))\n",
    "    print(\"standard error :\",np.std(brady_2)/np.sqrt(len(brady_2)-1))\n",
    "\n",
    "brady_stats(brady_2)\n",
    "print(\"Mode is 8\")"
   ]
  },
  {
   "cell_type": "code",
   "execution_count": 50,
   "metadata": {},
   "outputs": [
    {
     "name": "stdout",
     "output_type": "stream",
     "text": [
      "mean:  9.0\n",
      "median:  10.0\n",
      "variance:  15.428571428571429\n",
      "std. deviation : 3.927922024247863\n",
      "standard error : 1.6035674514745466\n",
      "There is no mode\n"
     ]
    }
   ],
   "source": [
    "brady_3 = [14, 12, 11, 10, 8, 7, 1]\n",
    "brady_stats(brady_3)\n",
    "print(\"There is no mode\")"
   ]
  },
  {
   "cell_type": "markdown",
   "metadata": {},
   "source": [
    "The mean and median aren't as close together so it is probably better to use the median."
   ]
  },
  {
   "cell_type": "markdown",
   "metadata": {},
   "source": [
    "SciPhi fanatic doesn't seem to have the same audience as the other which are more mainstream, so I would probably remove it as an outlier and not representing the population. With the 3 inputs remaining, I would estimate the roughly 20% of Americans were fans of the Brady Bunch as the mean of the sample is 20%."
   ]
  },
  {
   "cell_type": "code",
   "execution_count": null,
   "metadata": {},
   "outputs": [],
   "source": []
  }
 ],
 "metadata": {
  "kernelspec": {
   "display_name": "Python 3",
   "language": "python",
   "name": "python3"
  },
  "language_info": {
   "codemirror_mode": {
    "name": "ipython",
    "version": 3
   },
   "file_extension": ".py",
   "mimetype": "text/x-python",
   "name": "python",
   "nbconvert_exporter": "python",
   "pygments_lexer": "ipython3",
   "version": "3.7.0"
  }
 },
 "nbformat": 4,
 "nbformat_minor": 2
}
